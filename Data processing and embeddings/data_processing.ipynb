{
 "cells": [
  {
   "cell_type": "markdown",
   "metadata": {},
   "source": [
    "## Data processing\n",
    "\n",
    "Takes raw data in csvs.\n",
    "Filters and creates datasets for specific time periods."
   ]
  },
  {
   "cell_type": "code",
   "execution_count": 103,
   "metadata": {},
   "outputs": [],
   "source": [
    "from typing import List\n",
    "import pandas as pd\n",
    "from gensim.models import Phrases\n",
    "from gensim.utils import simple_preprocess\n",
    "from nltk.stem import WordNetLemmatizer\n",
    "from nltk.tag import pos_tag\n",
    "from nltk.corpus import wordnet as wn\n",
    "import re\n",
    "from nltk.stem.util import suffix_replace\n",
    "from urllib.parse import urlparse\n",
    "\n",
    "def preprocess(filename=None, start_date=None, end_date=None):\n",
    "    # get data from csv\n",
    "    df = pd.read_csv(filename, index_col=\"id\", usecols=[\"id\", \"body\", \"author\", \"parent_id\", \"retrieved_on\", \"timestamp\"], parse_dates=['timestamp'])\n",
    "    \n",
    "    # filter by date\n",
    "    if start_date:\n",
    "        df = df[df.timestamp >= start_date]\n",
    "    if end_date:\n",
    "        df = df[df.timestamp < end_date]\n",
    "\n",
    "    # remove rows where comment was deleted\n",
    "    df = df.drop(df[df.body == \"[deleted]\"].index)\n",
    "    df = df.drop(df[df.body == \"[removed]\"].index)\n",
    "\n",
    "    # remove links, convert to lowercase, remove html special characters, tokenize, and remove short/long tokens\n",
    "    def pre_preprocessing(sentence):\n",
    "        spl = sentence.split()\n",
    "        for i, word in enumerate(spl):\n",
    "            parsed_url = urlparse(word)\n",
    "            if parsed_url.scheme and parsed_url.netloc:\n",
    "                spl[i] = \"removed_url\"\n",
    "        sentence = ' '.join(spl)\n",
    "        sentence = sentence.replace(\"&amp;\", \"and\")\n",
    "        sentence = sentence.replace(\"&gt;\", \"\")\n",
    "        # men and man, female and females, incel and incels, marginalized and marginalised, libfem and libfems\n",
    "        return simple_preprocess(sentence)\n",
    "    simple_preprocessed = df['body'].astype(str).apply(pre_preprocessing)\n",
    "\n",
    "    # function to lemmatize each token, based on its part of speech\n",
    "    lemmatizer = WordNetLemmatizer()\n",
    "    def lemmatize_token(t: str, pos:str):\n",
    "        morphy_tag = {'NN':wn.NOUN, 'JJ':wn.ADJ,\n",
    "                  'VB':wn.VERB, 'RB':wn.ADV}\n",
    "        try:\n",
    "            pos = morphy_tag[pos[:2]]\n",
    "        except:\n",
    "            pos = wn.NOUN\n",
    "        lemma = lemmatizer.lemmatize(t, pos)\n",
    "        return lemma\n",
    "    \n",
    "    # task specific post-preprocessing\n",
    "    def post_preprocessing(t):\n",
    "        if t == \"men\":\n",
    "            t = suffix_replace(t, \"en\", \"an\")\n",
    "        elif t in [\"incels\", \"libfems\", \"females\"]:\n",
    "            t = suffix_replace(t, \"s\", \"\")\n",
    "        elif t in [\"marginalised\"]:\n",
    "            t = suffix_replace(t, \"ised\", \"ized\")\n",
    "        return t\n",
    "    \n",
    "    # tokenize comments, preserving common bigram phrases\n",
    "    # identify common bigram phrases\n",
    "    phrases = Phrases(simple_preprocessed, scoring=\"npmi\", threshold=0.7)\n",
    "    def preproccess_sentence(preprocessed_sentence: str) -> List[str]:\n",
    "        # combine tokens that make up a phrase and drop associated score\n",
    "        simple_tokens = [t[0] for t in phrases.analyze_sentence(preprocessed_sentence)]\n",
    "        # lemmatize tokens\n",
    "        tokens_and_pos = pos_tag(simple_tokens)\n",
    "        tokens = [lemmatize_token(t, pos) for t, pos in tokens_and_pos]\n",
    "        tokens = [post_preprocessing(t) for t in tokens]\n",
    "        return tokens\n",
    "    \n",
    "    # create body_clean column: a preprocessed version of body\n",
    "    df['body_clean'] = simple_preprocessed.apply(preproccess_sentence)\n",
    "    return df"
   ]
  },
  {
   "cell_type": "code",
   "execution_count": 104,
   "metadata": {},
   "outputs": [],
   "source": [
    "prefix = \"../data/raw/\"\n",
    "datasets = {\n",
    "    \"incels\": \n",
    "        {\n",
    "            \"filename\": prefix + \"Incels_comments.csv\",\n",
    "            \"start_date\": \"2015-11-07\"\n",
    "        },\n",
    "    \"braincels\": \n",
    "        {\n",
    "            \"filename\": prefix + \"Braincels_comments.csv\",\n",
    "            \"start_date\": \"2017-09-30\"\n",
    "        },\n",
    "    \"trufemcels\": \n",
    "        {\n",
    "            \"filename\": prefix + \"Trufemcels_comments.csv\",\n",
    "            \"start_date\": \"2019-01-30\"\n",
    "        },\n",
    "    \"mensrights\": \n",
    "        {\n",
    "            \"filename\": prefix + \"MensRights_comments.csv\",\n",
    "            \"start_date\": \"2021-01-01\"\n",
    "        },\n",
    "    \"theredpill\": \n",
    "        {\n",
    "            \"filename\": prefix + \"TheRedPill_comments.csv\",\n",
    "            \"start_date\": \"2021-01-01\"\n",
    "        },\n",
    "    \"feminism_full\": \n",
    "        {\n",
    "            \"filename\": prefix + \"Feminism_comments.csv\", \n",
    "            \"start_date\": \"2015-11-07\"\n",
    "        },\n",
    "    \"fourthwavewomen\": \n",
    "        {\n",
    "            \"filename\": prefix + \"fourthwavewomen_comments.csv\",\n",
    "            \"start_date\": \"2021-01-01\"\n",
    "        },\n",
    "    \"women\": \n",
    "        {\n",
    "            \"filename\": prefix + \"women_comments.csv\",\n",
    "            \"start_date\": \"2021-01-01\"\n",
    "        },\n",
    "    \"feminisms\": \n",
    "        {\n",
    "            \"filename\": prefix + \"feminisms_comments.csv\",\n",
    "            \"start_date\": \"2021-01-01\"\n",
    "        },\n",
    "    \"blackladies\": \n",
    "        {\n",
    "            \"filename\": prefix + \"blackladies_comments.csv\",\n",
    "            \"start_date\": \"2021-01-01\"\n",
    "        },\n",
    "    \"feminismuncensored\": \n",
    "        {\n",
    "            \"filename\": prefix + \"FeminismUncensored_comments.csv\",\n",
    "            \"start_date\": \"2021-01-01\"\n",
    "        },\n",
    "    \"fireyfemmes\": \n",
    "        {\n",
    "            \"filename\": prefix + \"FIREyFemmes_comments.csv\",\n",
    "            \"start_date\": \"2021-01-01\"\n",
    "        }\n",
    "}"
   ]
  },
  {
   "cell_type": "code",
   "execution_count": 111,
   "metadata": {},
   "outputs": [
    {
     "name": "stderr",
     "output_type": "stream",
     "text": [
      "/var/folders/bs/dn5ftycx50sgjnrrwnpdllth0000gn/T/ipykernel_27208/372815649.py:14: DtypeWarning: Columns (5) have mixed types. Specify dtype option on import or set low_memory=False.\n",
      "  df = pd.read_csv(filename, index_col=\"id\", usecols=[\"id\", \"body\", \"author\", \"parent_id\", \"retrieved_on\", \"timestamp\"], parse_dates=['timestamp'])\n",
      "/var/folders/bs/dn5ftycx50sgjnrrwnpdllth0000gn/T/ipykernel_27208/372815649.py:14: DtypeWarning: Columns (5) have mixed types. Specify dtype option on import or set low_memory=False.\n",
      "  df = pd.read_csv(filename, index_col=\"id\", usecols=[\"id\", \"body\", \"author\", \"parent_id\", \"retrieved_on\", \"timestamp\"], parse_dates=['timestamp'])\n",
      "/var/folders/bs/dn5ftycx50sgjnrrwnpdllth0000gn/T/ipykernel_27208/372815649.py:14: DtypeWarning: Columns (5) have mixed types. Specify dtype option on import or set low_memory=False.\n",
      "  df = pd.read_csv(filename, index_col=\"id\", usecols=[\"id\", \"body\", \"author\", \"parent_id\", \"retrieved_on\", \"timestamp\"], parse_dates=['timestamp'])\n",
      "/var/folders/bs/dn5ftycx50sgjnrrwnpdllth0000gn/T/ipykernel_27208/372815649.py:14: DtypeWarning: Columns (5) have mixed types. Specify dtype option on import or set low_memory=False.\n",
      "  df = pd.read_csv(filename, index_col=\"id\", usecols=[\"id\", \"body\", \"author\", \"parent_id\", \"retrieved_on\", \"timestamp\"], parse_dates=['timestamp'])\n",
      "/var/folders/bs/dn5ftycx50sgjnrrwnpdllth0000gn/T/ipykernel_27208/372815649.py:14: DtypeWarning: Columns (5) have mixed types. Specify dtype option on import or set low_memory=False.\n",
      "  df = pd.read_csv(filename, index_col=\"id\", usecols=[\"id\", \"body\", \"author\", \"parent_id\", \"retrieved_on\", \"timestamp\"], parse_dates=['timestamp'])\n"
     ]
    }
   ],
   "source": [
    "for subreddit in datasets:\n",
    "    try:\n",
    "        df = preprocess(**datasets[subreddit])\n",
    "        df.to_pickle(\"../data/clean/\"+subreddit+\".pkl\")\n",
    "    except:\n",
    "        print(\"FAILED: \" + subreddit)"
   ]
  },
  {
   "cell_type": "code",
   "execution_count": 112,
   "metadata": {},
   "outputs": [],
   "source": [
    "# break feminism into time periods\n",
    "feminism_full = pd.read_pickle(\"../data/clean/feminism_full.pkl\")\n",
    "feminism_chunks = []\n",
    "for i in range(2015, 2023, 2):\n",
    "    feminism_chunk = feminism_full[(feminism_full.timestamp >= str(i)+\"-01-01\") & (feminism_full.timestamp < str(i+2)+\"-01-01\")]\n",
    "    feminism_chunk.to_pickle(\"../data/clean/feminism_\"+str(i)+\"_\"+str(i+2)+\".pkl\")"
   ]
  },
  {
   "cell_type": "code",
   "execution_count": 113,
   "metadata": {},
   "outputs": [],
   "source": [
    "# combine incels into one df\n",
    "incel_subreddits = [\"incels\", \"braincels\", \"trufemcels\", \"mensrights\"] # add the redpill\n",
    "incel_dfs = [pd.read_pickle(\"../data/clean/\"+subreddit+\".pkl\") for subreddit in incel_subreddits]\n",
    "full_df = pd.concat(incel_dfs)\n",
    "full_df.to_pickle(\"../data/clean/incels_full.pkl\")"
   ]
  },
  {
   "cell_type": "code",
   "execution_count": 7,
   "metadata": {},
   "outputs": [],
   "source": [
    "import plotly.express as px\n",
    "import pandas as pd\n",
    "# build timeline\n",
    "def load_df(subreddit, prefix=\"../data/clean/\"):\n",
    "    df = pd.read_pickle(prefix+subreddit+\".pkl\")\n",
    "    return df\n",
    "subreddits = [\"incels\", \"braincels\", \"trufemcels\", \"mensrights\", \"incels_full\",\"feminism_full\", \"feminism_2015_2017\", \"feminism_2017_2019\", \"feminism_2019_2021\", \"feminism_2021_2023\", \"fourthwavewomen\", \"women\", \"blackladies\", \"feminismuncensored\", \"feminisms\", \"fireyfemmes\"]\n",
    "timeline_info = []\n",
    "for subreddit in subreddits:\n",
    "    df = load_df(subreddit)\n",
    "    info_dict = {}\n",
    "    info_dict[\"Dataset\"] = subreddit\n",
    "    info_dict[\"Start\"] = df['timestamp'].min()\n",
    "    info_dict[\"End\"] = df['timestamp'].max()\n",
    "    info_dict[\"Community\"] = \"Incel\" if subreddit in [\"incels\", \"braincels\", \"trufemcels\", \"mensrights\", \"incels_full\"] else \"Feminism\"\n",
    "    timeline_info.append(info_dict)\n",
    "\n",
    "# In line with steering :)\n",
    "colors = {\n",
    "    \"Incel\": \"rgb(242,172,185)\",\n",
    "    \"Feminism\": \"rgb(155,211,221)\"\n",
    "}\n",
    "timeline_df = pd.DataFrame(timeline_info)\n",
    "fig = px.timeline(timeline_df, x_start=\"Start\", x_end=\"End\", y=\"Dataset\", color=\"Community\", color_discrete_map=colors)"
   ]
  },
  {
   "cell_type": "code",
   "execution_count": 8,
   "metadata": {},
   "outputs": [
    {
     "data": {
      "application/vnd.plotly.v1+json": {
       "config": {
        "plotlyServerURL": "https://plot.ly"
       },
       "data": [
        {
         "alignmentgroup": "True",
         "base": [
          "2016-05-17T03:00:09",
          "2017-10-21T06:29:09",
          "2019-01-30T00:01:30",
          "2021-01-01T00:04:54",
          "2016-05-17T03:00:09"
         ],
         "hovertemplate": "Community=Incel<br>Start=%{base}<br>End=%{x}<br>Dataset=%{y}<extra></extra>",
         "legendgroup": "Incel",
         "marker": {
          "color": "rgb(242,172,185)",
          "pattern": {
           "shape": ""
          }
         },
         "name": "Incel",
         "offsetgroup": "Incel",
         "orientation": "h",
         "showlegend": true,
         "textposition": "auto",
         "type": "bar",
         "x": [
          46223075000,
          51904922000,
          49296184000,
          63071661000,
          209077146000
         ],
         "xaxis": "x",
         "y": [
          "incels",
          "braincels",
          "trufemcels",
          "mensrights",
          "incels_full"
         ],
         "yaxis": "y"
        },
        {
         "alignmentgroup": "True",
         "base": [
          "2015-11-07T00:14:56",
          "2015-11-07T00:14:56",
          "2017-01-01T00:17:37",
          "2019-01-01T00:18:06",
          "2021-01-01T00:19:41",
          "2021-07-16T20:08:27",
          "2021-01-01T00:22:12",
          "2021-01-01T00:02:50",
          "2021-01-07T23:41:13",
          "2021-01-01T01:38:13",
          "2021-01-01T00:24:09"
         ],
         "hovertemplate": "Community=Feminism<br>Start=%{base}<br>End=%{x}<br>Dataset=%{y}<extra></extra>",
         "legendgroup": "Feminism",
         "marker": {
          "color": "rgb(155,211,221)",
          "pattern": {
           "shape": ""
          }
         },
         "name": "Feminism",
         "offsetgroup": "Feminism",
         "orientation": "h",
         "showlegend": true,
         "textposition": "auto",
         "type": "bar",
         "x": [
          225674751000,
          36373182000,
          63070905000,
          63157275000,
          63069666000,
          46065019000,
          63070579000,
          63071663000,
          62448969000,
          63060285000,
          63069071000
         ],
         "xaxis": "x",
         "y": [
          "feminism_full",
          "feminism_2015_2017",
          "feminism_2017_2019",
          "feminism_2019_2021",
          "feminism_2021_2023",
          "fourthwavewomen",
          "women",
          "blackladies",
          "feminismuncensored",
          "feminisms",
          "fireyfemmes"
         ],
         "yaxis": "y"
        }
       ],
       "layout": {
        "barmode": "overlay",
        "legend": {
         "title": {
          "text": "Community"
         },
         "tracegroupgap": 0
        },
        "margin": {
         "t": 60
        },
        "template": {
         "data": {
          "bar": [
           {
            "error_x": {
             "color": "#2a3f5f"
            },
            "error_y": {
             "color": "#2a3f5f"
            },
            "marker": {
             "line": {
              "color": "#E5ECF6",
              "width": 0.5
             },
             "pattern": {
              "fillmode": "overlay",
              "size": 10,
              "solidity": 0.2
             }
            },
            "type": "bar"
           }
          ],
          "barpolar": [
           {
            "marker": {
             "line": {
              "color": "#E5ECF6",
              "width": 0.5
             },
             "pattern": {
              "fillmode": "overlay",
              "size": 10,
              "solidity": 0.2
             }
            },
            "type": "barpolar"
           }
          ],
          "carpet": [
           {
            "aaxis": {
             "endlinecolor": "#2a3f5f",
             "gridcolor": "white",
             "linecolor": "white",
             "minorgridcolor": "white",
             "startlinecolor": "#2a3f5f"
            },
            "baxis": {
             "endlinecolor": "#2a3f5f",
             "gridcolor": "white",
             "linecolor": "white",
             "minorgridcolor": "white",
             "startlinecolor": "#2a3f5f"
            },
            "type": "carpet"
           }
          ],
          "choropleth": [
           {
            "colorbar": {
             "outlinewidth": 0,
             "ticks": ""
            },
            "type": "choropleth"
           }
          ],
          "contour": [
           {
            "colorbar": {
             "outlinewidth": 0,
             "ticks": ""
            },
            "colorscale": [
             [
              0,
              "#0d0887"
             ],
             [
              0.1111111111111111,
              "#46039f"
             ],
             [
              0.2222222222222222,
              "#7201a8"
             ],
             [
              0.3333333333333333,
              "#9c179e"
             ],
             [
              0.4444444444444444,
              "#bd3786"
             ],
             [
              0.5555555555555556,
              "#d8576b"
             ],
             [
              0.6666666666666666,
              "#ed7953"
             ],
             [
              0.7777777777777778,
              "#fb9f3a"
             ],
             [
              0.8888888888888888,
              "#fdca26"
             ],
             [
              1,
              "#f0f921"
             ]
            ],
            "type": "contour"
           }
          ],
          "contourcarpet": [
           {
            "colorbar": {
             "outlinewidth": 0,
             "ticks": ""
            },
            "type": "contourcarpet"
           }
          ],
          "heatmap": [
           {
            "colorbar": {
             "outlinewidth": 0,
             "ticks": ""
            },
            "colorscale": [
             [
              0,
              "#0d0887"
             ],
             [
              0.1111111111111111,
              "#46039f"
             ],
             [
              0.2222222222222222,
              "#7201a8"
             ],
             [
              0.3333333333333333,
              "#9c179e"
             ],
             [
              0.4444444444444444,
              "#bd3786"
             ],
             [
              0.5555555555555556,
              "#d8576b"
             ],
             [
              0.6666666666666666,
              "#ed7953"
             ],
             [
              0.7777777777777778,
              "#fb9f3a"
             ],
             [
              0.8888888888888888,
              "#fdca26"
             ],
             [
              1,
              "#f0f921"
             ]
            ],
            "type": "heatmap"
           }
          ],
          "heatmapgl": [
           {
            "colorbar": {
             "outlinewidth": 0,
             "ticks": ""
            },
            "colorscale": [
             [
              0,
              "#0d0887"
             ],
             [
              0.1111111111111111,
              "#46039f"
             ],
             [
              0.2222222222222222,
              "#7201a8"
             ],
             [
              0.3333333333333333,
              "#9c179e"
             ],
             [
              0.4444444444444444,
              "#bd3786"
             ],
             [
              0.5555555555555556,
              "#d8576b"
             ],
             [
              0.6666666666666666,
              "#ed7953"
             ],
             [
              0.7777777777777778,
              "#fb9f3a"
             ],
             [
              0.8888888888888888,
              "#fdca26"
             ],
             [
              1,
              "#f0f921"
             ]
            ],
            "type": "heatmapgl"
           }
          ],
          "histogram": [
           {
            "marker": {
             "pattern": {
              "fillmode": "overlay",
              "size": 10,
              "solidity": 0.2
             }
            },
            "type": "histogram"
           }
          ],
          "histogram2d": [
           {
            "colorbar": {
             "outlinewidth": 0,
             "ticks": ""
            },
            "colorscale": [
             [
              0,
              "#0d0887"
             ],
             [
              0.1111111111111111,
              "#46039f"
             ],
             [
              0.2222222222222222,
              "#7201a8"
             ],
             [
              0.3333333333333333,
              "#9c179e"
             ],
             [
              0.4444444444444444,
              "#bd3786"
             ],
             [
              0.5555555555555556,
              "#d8576b"
             ],
             [
              0.6666666666666666,
              "#ed7953"
             ],
             [
              0.7777777777777778,
              "#fb9f3a"
             ],
             [
              0.8888888888888888,
              "#fdca26"
             ],
             [
              1,
              "#f0f921"
             ]
            ],
            "type": "histogram2d"
           }
          ],
          "histogram2dcontour": [
           {
            "colorbar": {
             "outlinewidth": 0,
             "ticks": ""
            },
            "colorscale": [
             [
              0,
              "#0d0887"
             ],
             [
              0.1111111111111111,
              "#46039f"
             ],
             [
              0.2222222222222222,
              "#7201a8"
             ],
             [
              0.3333333333333333,
              "#9c179e"
             ],
             [
              0.4444444444444444,
              "#bd3786"
             ],
             [
              0.5555555555555556,
              "#d8576b"
             ],
             [
              0.6666666666666666,
              "#ed7953"
             ],
             [
              0.7777777777777778,
              "#fb9f3a"
             ],
             [
              0.8888888888888888,
              "#fdca26"
             ],
             [
              1,
              "#f0f921"
             ]
            ],
            "type": "histogram2dcontour"
           }
          ],
          "mesh3d": [
           {
            "colorbar": {
             "outlinewidth": 0,
             "ticks": ""
            },
            "type": "mesh3d"
           }
          ],
          "parcoords": [
           {
            "line": {
             "colorbar": {
              "outlinewidth": 0,
              "ticks": ""
             }
            },
            "type": "parcoords"
           }
          ],
          "pie": [
           {
            "automargin": true,
            "type": "pie"
           }
          ],
          "scatter": [
           {
            "fillpattern": {
             "fillmode": "overlay",
             "size": 10,
             "solidity": 0.2
            },
            "type": "scatter"
           }
          ],
          "scatter3d": [
           {
            "line": {
             "colorbar": {
              "outlinewidth": 0,
              "ticks": ""
             }
            },
            "marker": {
             "colorbar": {
              "outlinewidth": 0,
              "ticks": ""
             }
            },
            "type": "scatter3d"
           }
          ],
          "scattercarpet": [
           {
            "marker": {
             "colorbar": {
              "outlinewidth": 0,
              "ticks": ""
             }
            },
            "type": "scattercarpet"
           }
          ],
          "scattergeo": [
           {
            "marker": {
             "colorbar": {
              "outlinewidth": 0,
              "ticks": ""
             }
            },
            "type": "scattergeo"
           }
          ],
          "scattergl": [
           {
            "marker": {
             "colorbar": {
              "outlinewidth": 0,
              "ticks": ""
             }
            },
            "type": "scattergl"
           }
          ],
          "scattermapbox": [
           {
            "marker": {
             "colorbar": {
              "outlinewidth": 0,
              "ticks": ""
             }
            },
            "type": "scattermapbox"
           }
          ],
          "scatterpolar": [
           {
            "marker": {
             "colorbar": {
              "outlinewidth": 0,
              "ticks": ""
             }
            },
            "type": "scatterpolar"
           }
          ],
          "scatterpolargl": [
           {
            "marker": {
             "colorbar": {
              "outlinewidth": 0,
              "ticks": ""
             }
            },
            "type": "scatterpolargl"
           }
          ],
          "scatterternary": [
           {
            "marker": {
             "colorbar": {
              "outlinewidth": 0,
              "ticks": ""
             }
            },
            "type": "scatterternary"
           }
          ],
          "surface": [
           {
            "colorbar": {
             "outlinewidth": 0,
             "ticks": ""
            },
            "colorscale": [
             [
              0,
              "#0d0887"
             ],
             [
              0.1111111111111111,
              "#46039f"
             ],
             [
              0.2222222222222222,
              "#7201a8"
             ],
             [
              0.3333333333333333,
              "#9c179e"
             ],
             [
              0.4444444444444444,
              "#bd3786"
             ],
             [
              0.5555555555555556,
              "#d8576b"
             ],
             [
              0.6666666666666666,
              "#ed7953"
             ],
             [
              0.7777777777777778,
              "#fb9f3a"
             ],
             [
              0.8888888888888888,
              "#fdca26"
             ],
             [
              1,
              "#f0f921"
             ]
            ],
            "type": "surface"
           }
          ],
          "table": [
           {
            "cells": {
             "fill": {
              "color": "#EBF0F8"
             },
             "line": {
              "color": "white"
             }
            },
            "header": {
             "fill": {
              "color": "#C8D4E3"
             },
             "line": {
              "color": "white"
             }
            },
            "type": "table"
           }
          ]
         },
         "layout": {
          "annotationdefaults": {
           "arrowcolor": "#2a3f5f",
           "arrowhead": 0,
           "arrowwidth": 1
          },
          "autotypenumbers": "strict",
          "coloraxis": {
           "colorbar": {
            "outlinewidth": 0,
            "ticks": ""
           }
          },
          "colorscale": {
           "diverging": [
            [
             0,
             "#8e0152"
            ],
            [
             0.1,
             "#c51b7d"
            ],
            [
             0.2,
             "#de77ae"
            ],
            [
             0.3,
             "#f1b6da"
            ],
            [
             0.4,
             "#fde0ef"
            ],
            [
             0.5,
             "#f7f7f7"
            ],
            [
             0.6,
             "#e6f5d0"
            ],
            [
             0.7,
             "#b8e186"
            ],
            [
             0.8,
             "#7fbc41"
            ],
            [
             0.9,
             "#4d9221"
            ],
            [
             1,
             "#276419"
            ]
           ],
           "sequential": [
            [
             0,
             "#0d0887"
            ],
            [
             0.1111111111111111,
             "#46039f"
            ],
            [
             0.2222222222222222,
             "#7201a8"
            ],
            [
             0.3333333333333333,
             "#9c179e"
            ],
            [
             0.4444444444444444,
             "#bd3786"
            ],
            [
             0.5555555555555556,
             "#d8576b"
            ],
            [
             0.6666666666666666,
             "#ed7953"
            ],
            [
             0.7777777777777778,
             "#fb9f3a"
            ],
            [
             0.8888888888888888,
             "#fdca26"
            ],
            [
             1,
             "#f0f921"
            ]
           ],
           "sequentialminus": [
            [
             0,
             "#0d0887"
            ],
            [
             0.1111111111111111,
             "#46039f"
            ],
            [
             0.2222222222222222,
             "#7201a8"
            ],
            [
             0.3333333333333333,
             "#9c179e"
            ],
            [
             0.4444444444444444,
             "#bd3786"
            ],
            [
             0.5555555555555556,
             "#d8576b"
            ],
            [
             0.6666666666666666,
             "#ed7953"
            ],
            [
             0.7777777777777778,
             "#fb9f3a"
            ],
            [
             0.8888888888888888,
             "#fdca26"
            ],
            [
             1,
             "#f0f921"
            ]
           ]
          },
          "colorway": [
           "#636efa",
           "#EF553B",
           "#00cc96",
           "#ab63fa",
           "#FFA15A",
           "#19d3f3",
           "#FF6692",
           "#B6E880",
           "#FF97FF",
           "#FECB52"
          ],
          "font": {
           "color": "#2a3f5f"
          },
          "geo": {
           "bgcolor": "white",
           "lakecolor": "white",
           "landcolor": "#E5ECF6",
           "showlakes": true,
           "showland": true,
           "subunitcolor": "white"
          },
          "hoverlabel": {
           "align": "left"
          },
          "hovermode": "closest",
          "mapbox": {
           "style": "light"
          },
          "paper_bgcolor": "white",
          "plot_bgcolor": "#E5ECF6",
          "polar": {
           "angularaxis": {
            "gridcolor": "white",
            "linecolor": "white",
            "ticks": ""
           },
           "bgcolor": "#E5ECF6",
           "radialaxis": {
            "gridcolor": "white",
            "linecolor": "white",
            "ticks": ""
           }
          },
          "scene": {
           "xaxis": {
            "backgroundcolor": "#E5ECF6",
            "gridcolor": "white",
            "gridwidth": 2,
            "linecolor": "white",
            "showbackground": true,
            "ticks": "",
            "zerolinecolor": "white"
           },
           "yaxis": {
            "backgroundcolor": "#E5ECF6",
            "gridcolor": "white",
            "gridwidth": 2,
            "linecolor": "white",
            "showbackground": true,
            "ticks": "",
            "zerolinecolor": "white"
           },
           "zaxis": {
            "backgroundcolor": "#E5ECF6",
            "gridcolor": "white",
            "gridwidth": 2,
            "linecolor": "white",
            "showbackground": true,
            "ticks": "",
            "zerolinecolor": "white"
           }
          },
          "shapedefaults": {
           "line": {
            "color": "#2a3f5f"
           }
          },
          "ternary": {
           "aaxis": {
            "gridcolor": "white",
            "linecolor": "white",
            "ticks": ""
           },
           "baxis": {
            "gridcolor": "white",
            "linecolor": "white",
            "ticks": ""
           },
           "bgcolor": "#E5ECF6",
           "caxis": {
            "gridcolor": "white",
            "linecolor": "white",
            "ticks": ""
           }
          },
          "title": {
           "x": 0.05
          },
          "xaxis": {
           "automargin": true,
           "gridcolor": "white",
           "linecolor": "white",
           "ticks": "",
           "title": {
            "standoff": 15
           },
           "zerolinecolor": "white",
           "zerolinewidth": 2
          },
          "yaxis": {
           "automargin": true,
           "gridcolor": "white",
           "linecolor": "white",
           "ticks": "",
           "title": {
            "standoff": 15
           },
           "zerolinecolor": "white",
           "zerolinewidth": 2
          }
         }
        },
        "xaxis": {
         "anchor": "y",
         "domain": [
          0,
          1
         ],
         "type": "date"
        },
        "yaxis": {
         "anchor": "x",
         "domain": [
          0,
          1
         ],
         "title": {
          "text": "Dataset"
         }
        }
       }
      }
     },
     "metadata": {},
     "output_type": "display_data"
    }
   ],
   "source": [
    "fig.show()"
   ]
  }
 ],
 "metadata": {
  "kernelspec": {
   "display_name": "base",
   "language": "python",
   "name": "python3"
  },
  "language_info": {
   "codemirror_mode": {
    "name": "ipython",
    "version": 3
   },
   "file_extension": ".py",
   "mimetype": "text/x-python",
   "name": "python",
   "nbconvert_exporter": "python",
   "pygments_lexer": "ipython3",
   "version": "3.12.2"
  }
 },
 "nbformat": 4,
 "nbformat_minor": 2
}
