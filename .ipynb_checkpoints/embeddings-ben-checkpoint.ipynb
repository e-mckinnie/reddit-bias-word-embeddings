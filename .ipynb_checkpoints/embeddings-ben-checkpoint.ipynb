{
 "cells": [
  {
   "cell_type": "code",
   "execution_count": 8,
   "metadata": {},
   "outputs": [],
   "source": [
    "from multiprocessing import cpu_count\n",
    "from gensim.models import Word2Vec, callbacks\n",
    "\n",
    "def train_embeddings(df, sg=0, negative=5, window=8, min_count=5, size=300, epochs=10):\n",
    "    sentences = df[\"body_clean\"].to_list()\n",
    "    \n",
    "    class callback(callbacks.CallbackAny2Vec):\n",
    "        def __init__(self):\n",
    "            self.epoch = 0\n",
    "\n",
    "        def on_epoch_end(self, model):\n",
    "            loss = model.get_latest_training_loss()\n",
    "            if self.epoch == 0:\n",
    "                print('Loss after epoch {}: {}'.format(self.epoch, loss))\n",
    "            elif self.epoch % 10 == 0:\n",
    "                print('Loss after epoch {}: {}'.format(self.epoch, loss - self.loss_previous_step))\n",
    "            self.epoch += 1\n",
    "            self.loss_previous_step = loss\n",
    "\n",
    "    model = Word2Vec(sg=sg, negative=negative, window=window, min_count=min_count, vector_size=size, workers=cpu_count())\n",
    "    model.build_vocab(corpus_iterable=sentences)\n",
    "    model.train(corpus_iterable=sentences, compute_loss=True, callbacks=[callback()], epochs=epochs, total_examples=model.corpus_count)\n",
    "    return model"
   ]
  },
  {
   "cell_type": "code",
   "execution_count": null,
   "metadata": {},
   "outputs": [
    {
     "name": "stdout",
     "output_type": "stream",
     "text": [
      "incels\n",
      "Loss after epoch 0: 3702521.25\n"
     ]
    }
   ],
   "source": [
    "from loader import load_dataset\n",
    "\n",
    "def evaluate(ds, prefix=\"../data/embeddings/embeddings/\"):\n",
    "    model = Word2Vec.load(prefix + ds + \".bin\")\n",
    "    print(model.wv.most_similar(\"man\", negative=\"woman\", topn=5))\n",
    "\n",
    "dataset_names = [\"incels\", \"braincels\", \"trufemcels\", \"mensrights\", \"incels_full\",\"feminism_full\", \"feminism_2015_2017\", \"feminism_2017_2019\", \"feminism_2019_2021\", \"feminism_2021_2023\"]#\"fourthwavewomen\"]\n",
    "for name in dataset_names:\n",
    "    print(name)\n",
    "    ds = load_dataset(name,prefix = \"../data/cleaned_corpora/clean/\")\n",
    "    model = train_embeddings(ds,epochs=100)\n",
    "    model.save(\"../data/embeddings/embeddings/\" + name + \".bin\")\n",
    "    evaluate(name)"
   ]
  },
  {
   "cell_type": "code",
   "execution_count": null,
   "metadata": {},
   "outputs": [],
   "source": []
  }
 ],
 "metadata": {
  "kernelspec": {
   "display_name": "Python 3 (ipykernel)",
   "language": "python",
   "name": "python3"
  },
  "language_info": {
   "codemirror_mode": {
    "name": "ipython",
    "version": 3
   },
   "file_extension": ".py",
   "mimetype": "text/x-python",
   "name": "python",
   "nbconvert_exporter": "python",
   "pygments_lexer": "ipython3",
   "version": "3.11.5"
  }
 },
 "nbformat": 4,
 "nbformat_minor": 2
}
