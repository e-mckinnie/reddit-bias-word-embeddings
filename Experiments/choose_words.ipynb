{
 "cells": [
  {
   "cell_type": "code",
   "execution_count": 2,
   "metadata": {},
   "outputs": [],
   "source": [
    "import json\n",
    "import os\n",
    "import pandas as pd"
   ]
  },
  {
   "cell_type": "code",
   "execution_count": 22,
   "metadata": {},
   "outputs": [
    {
     "name": "stdout",
     "output_type": "stream",
     "text": [
      "57 potential words\n"
     ]
    }
   ],
   "source": [
    "potential_words = \"chad, ugly, virgin, incel, normie, beta, abortion, sexist, feminist, gender, trans, whore, virgin, rape, birth_control, porn, sexual_assault, love, abuse, prostitution, slut_shaming, onlyfans, bodily_autonomy, taylor_swift, hillary_clinton, cuck, consent, period, sex, drag, gay, queer, pleasure, man, woman, male, female, feminine, masculine, foid, femoid, marginalized, black, white, vagina, menstruation, girl, boy, guy, becky, stacy, karen, femcel, slut, promiscuous, short, attractive, personality\"\n",
    "potential_words = set(potential_words.split(\", \"))\n",
    "print(f\"{len(potential_words)} potential words\")"
   ]
  },
  {
   "cell_type": "code",
   "execution_count": 24,
   "metadata": {},
   "outputs": [],
   "source": [
    "# Creates dictionary of corpora names to list of words in that corpora that is also\n",
    "# in the list of potential words.\n",
    "#\n",
    "# data_folder: location of pre-processed data files (.pkl)\n",
    "def create_target_words_per_corpora(data_folder, potential_words):\n",
    "    pre_processed_files = os.listdir(data_folder)\n",
    "    target_words = {}\n",
    "    for file in pre_processed_files:\n",
    "        print(f\"Looking for words in {file}...\")\n",
    "        corpora = pd.read_pickle(f\"{data_folder}/{file}\")\n",
    "        all_words = []\n",
    "        for l in corpora['body_clean'].tolist():\n",
    "            all_words.extend(l)\n",
    "        found_words = list(potential_words.intersection(all_words))\n",
    "        target_words[file.split(\".\")[0]] = found_words\n",
    "        print(f\"{len(found_words)} words found.\\n\")\n",
    "    \n",
    "    return target_words"
   ]
  },
  {
   "cell_type": "code",
   "execution_count": 25,
   "metadata": {},
   "outputs": [],
   "source": [
    "# writes dict to file_path as strings\n",
    "def write_dict_to_file(dict, file_path):\n",
    "    with open(file_path, 'w') as file:\n",
    "     file.write(json.dumps(dict))"
   ]
  },
  {
   "cell_type": "code",
   "execution_count": 28,
   "metadata": {},
   "outputs": [],
   "source": [
    "# example code to create target words and write to file\n",
    "data_folder = \"../data/pre-processed\"\n",
    "target_word_file = \"target_words.txt\"\n",
    "target_words = create_target_words_per_corpora(data_folder, potential_words)\n",
    "write_dict_to_file(target_words, target_word_file)"
   ]
  },
  {
   "cell_type": "code",
   "execution_count": 3,
   "metadata": {},
   "outputs": [],
   "source": [
    "# reads dict from file_path as strings\n",
    "def read_dict_from_file(file_path):\n",
    "    with open(file_path, 'r') as file:\n",
    "        dict = json.load(file)\n",
    "    return dict"
   ]
  },
  {
   "cell_type": "code",
   "execution_count": 4,
   "metadata": {},
   "outputs": [],
   "source": [
    "# returns list of words that are found in all corpora names given\n",
    "def find_words_in_corpora(target_words, list_of_corpora_names):\n",
    "    result = target_words[list_of_corpora_names[0]]\n",
    "    for corpus in list_of_corpora_names:\n",
    "        result = set(result).intersection(target_words[corpus])\n",
    "    return result"
   ]
  },
  {
   "cell_type": "code",
   "execution_count": 6,
   "metadata": {},
   "outputs": [
    {
     "data": {
      "text/plain": [
       "{'abortion',\n",
       " 'abuse',\n",
       " 'attractive',\n",
       " 'becky',\n",
       " 'beta',\n",
       " 'birth_control',\n",
       " 'black',\n",
       " 'bodily_autonomy',\n",
       " 'boy',\n",
       " 'chad',\n",
       " 'consent',\n",
       " 'cuck',\n",
       " 'drag',\n",
       " 'female',\n",
       " 'femcel',\n",
       " 'feminine',\n",
       " 'feminist',\n",
       " 'femoid',\n",
       " 'foid',\n",
       " 'gay',\n",
       " 'gender',\n",
       " 'girl',\n",
       " 'guy',\n",
       " 'hillary_clinton',\n",
       " 'incel',\n",
       " 'karen',\n",
       " 'love',\n",
       " 'male',\n",
       " 'man',\n",
       " 'marginalized',\n",
       " 'masculine',\n",
       " 'menstruation',\n",
       " 'normie',\n",
       " 'period',\n",
       " 'personality',\n",
       " 'pleasure',\n",
       " 'porn',\n",
       " 'promiscuous',\n",
       " 'prostitution',\n",
       " 'queer',\n",
       " 'rape',\n",
       " 'sex',\n",
       " 'sexist',\n",
       " 'short',\n",
       " 'slut',\n",
       " 'stacy',\n",
       " 'taylor_swift',\n",
       " 'trans',\n",
       " 'ugly',\n",
       " 'vagina',\n",
       " 'virgin',\n",
       " 'white',\n",
       " 'whore',\n",
       " 'woman'}"
      ]
     },
     "execution_count": 6,
     "metadata": {},
     "output_type": "execute_result"
    }
   ],
   "source": [
    "# example code to read target words from file and get intersection of incels and feminism_full\n",
    "target_word_file = \"target_words.txt\"\n",
    "target_words = read_dict_from_file(target_word_file)\n",
    "incel_and_feminism_words = find_words_in_corpora(target_words, ['incels', 'feminism_full'])\n",
    "incel_and_feminism_words"
   ]
  },
  {
   "cell_type": "code",
   "execution_count": 11,
   "metadata": {},
   "outputs": [
    {
     "data": {
      "text/plain": [
       "set()"
      ]
     },
     "execution_count": 11,
     "metadata": {},
     "output_type": "execute_result"
    }
   ],
   "source": [
    "find_words_in_corpora(target_words, list(target_words.keys()))"
   ]
  }
 ],
 "metadata": {
  "kernelspec": {
   "display_name": "reddit_bias",
   "language": "python",
   "name": "python3"
  },
  "language_info": {
   "codemirror_mode": {
    "name": "ipython",
    "version": 3
   },
   "file_extension": ".py",
   "mimetype": "text/x-python",
   "name": "python",
   "nbconvert_exporter": "python",
   "pygments_lexer": "ipython3",
   "version": "3.12.3"
  }
 },
 "nbformat": 4,
 "nbformat_minor": 2
}
