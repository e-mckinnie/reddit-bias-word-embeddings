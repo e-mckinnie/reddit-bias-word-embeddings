{
 "cells": [
  {
   "cell_type": "code",
   "execution_count": 179,
   "metadata": {},
   "outputs": [],
   "source": [
    "import numpy as np\n",
    "import os\n",
    "import pandas as pd\n",
    "from gensim.models import Word2Vec\n",
    "from weat import WEAT\n",
    "from wefat import WEFAT"
   ]
  },
  {
   "cell_type": "markdown",
   "metadata": {},
   "source": [
    "### Load Word2Vec models"
   ]
  },
  {
   "cell_type": "code",
   "execution_count": 21,
   "metadata": {},
   "outputs": [],
   "source": [
    "def create_model_dict(embeddings_path):\n",
    "    embedding_files = os.listdir(embeddings_path)\n",
    "    model_dict = {}\n",
    "    for file in embedding_files:\n",
    "        name, ext = os.path.splitext(file)\n",
    "        if ext == '.bin':\n",
    "            print(f\"Loading Word2Vec from {file}\")\n",
    "            model_dict[file.split(\".\")[0]] = Word2Vec.load(f\"{embeddings_path}/{file}\")\n",
    "    return model_dict        "
   ]
  },
  {
   "cell_type": "code",
   "execution_count": 22,
   "metadata": {},
   "outputs": [
    {
     "name": "stdout",
     "output_type": "stream",
     "text": [
      "Loading Word2Vec from blackladies.bin\n",
      "Loading Word2Vec from braincels.bin\n",
      "Loading Word2Vec from feminisms.bin\n",
      "Loading Word2Vec from feminismuncensored.bin\n",
      "Loading Word2Vec from feminism_2015_2017.bin\n",
      "Loading Word2Vec from feminism_2017_2019.bin\n",
      "Loading Word2Vec from feminism_2019_2021.bin\n",
      "Loading Word2Vec from feminism_2021_2023.bin\n",
      "Loading Word2Vec from feminism_full.bin\n",
      "Loading Word2Vec from fireyfemmes.bin\n",
      "Loading Word2Vec from fourthwavewomen.bin\n",
      "Loading Word2Vec from incels.bin\n",
      "Loading Word2Vec from incels_full.bin\n",
      "Loading Word2Vec from mensrights.bin\n",
      "Loading Word2Vec from trufemcels.bin\n",
      "Loading Word2Vec from women.bin\n"
     ]
    }
   ],
   "source": [
    "embeddings_path = \"../data/embeddings\"\n",
    "model_dict = create_model_dict(embeddings_path)"
   ]
  },
  {
   "cell_type": "markdown",
   "metadata": {},
   "source": [
    "### Functions to create embeddings and run WEAT and WEFAT"
   ]
  },
  {
   "cell_type": "code",
   "execution_count": 128,
   "metadata": {},
   "outputs": [],
   "source": [
    "def create_embeddings_dict(corpora_model, all_words):\n",
    "    embedding_dict = {}\n",
    "    for key in all_words.keys():\n",
    "        embeddings = {}\n",
    "        for word in all_words[key]:\n",
    "            try:\n",
    "                embeddings[word] = np.array(corpora_model.wv[word], dtype='float32')\n",
    "            except:\n",
    "                print(f\"{word} is not in the corpus\")\n",
    "        embedding_dict[key] = embeddings\n",
    "    return embedding_dict\n",
    "    "
   ]
  },
  {
   "cell_type": "code",
   "execution_count": 129,
   "metadata": {},
   "outputs": [],
   "source": [
    "# https://github.com/e-mckinnie/WEAT\n",
    "# authored by Elizabeth McKinnie, 2022\n",
    "# from main.py\n",
    "def test_weat(embedded_data, iterations, distribution_type):\n",
    "    test = WEAT(list(embedded_data['target_1'].values()), list(embedded_data['target_2'].values()), list(embedded_data['attribute_1'].values()), list(embedded_data['attribute_2'].values()))\n",
    "\n",
    "    d = test.effect_size()\n",
    "    print(f'\\teffect size: {d}')\n",
    "\n",
    "    p_value = test.p_value(iterations, distribution_type)\n",
    "    print(f'\\tp_value: {p_value}')"
   ]
  },
  {
   "cell_type": "code",
   "execution_count": 161,
   "metadata": {},
   "outputs": [],
   "source": [
    "# https://github.com/e-mckinnie/WEAT\n",
    "# authored by Elizabeth McKinnie, 2022\n",
    "# from main.py\n",
    "def test_wefat(embedded_data):\n",
    "    test = WEFAT(embedded_data['target'], list(embedded_data['attribute_1'].values()), list(embedded_data['attribute_2'].values()))\n",
    "    return test.all_effect_sizes()"
   ]
  },
  {
   "cell_type": "markdown",
   "metadata": {},
   "source": [
    "### Experiment 1: All incel subreddits vs r/feminism"
   ]
  },
  {
   "cell_type": "code",
   "execution_count": 89,
   "metadata": {},
   "outputs": [],
   "source": [
    "# define target\n",
    "all_words = {'target_1': [\"feminist\", \"girl\", \"woman\"], \n",
    "             'target_2': [\"incel\", \"boy\", \"man\"],\n",
    "             'attribute_1': [\"nice\", \"beautiful\", \"cheerful\", \"wonderful\"],\n",
    "             'attribute_2': [\"mean\", \"ugly\", \"rude\", \"awful\"]}"
   ]
  },
  {
   "cell_type": "code",
   "execution_count": 116,
   "metadata": {},
   "outputs": [],
   "source": [
    "# words not in corpora but changed into other forms\n",
    "# napping -> nap\n",
    "# harmoniously -> harmonious\n",
    "# missiles -> missile\n",
    "# safe dangerous\n",
    "all_words = {'target_1': [\"feminist\", \"girl\", \"woman\"], \n",
    "             'target_2': [\"incel\", \"boy\", \"man\"],\n",
    "             'attribute_1': [\"peculiarly\", \"hill\", \"terminology\", \"childhood\", \"accord\", \"cotton\", \"sleeping\", \"nap\", \"calm\", \"softness\", \"natural\", \"serenity\", \"reassurance\", \"peace\", \"angel\", \"harmonious\", \"honest\", \"blessing\", \"trustworthy\", \"wisdom\"],\n",
    "             'attribute_2': [\"homicide\", \"wrath\", \"terrifying\", \"poisonous\", \"masochism\", \"obsessive\", \"homosexual\", \"acid\", \"claw\", \"hospital\", \"weld\", \"bankruptcy\", \"suffering\", \"mistreated\", \"abused\", \"misbehave\", \"suicidal\", \"chaos\", \"toxic\", \"bloodbath\", \"killer\", \"murderer\", \"assassinate\", \"earthquake\", \"missile\", \"firearm\", \"firing\", \"firearms\"]}"
   ]
  },
  {
   "cell_type": "code",
   "execution_count": 111,
   "metadata": {},
   "outputs": [],
   "source": [
    "# weak powerful\n",
    "# decayed -> decay\n",
    "# nothingness -> nothing\n",
    "# rearrangement -> rearrange\n",
    "# desiring -> desire\n",
    "#excitability -> excite\n",
    "all_words = {'target_1': [\"feminist\", \"girl\", \"woman\"], \n",
    "             'target_2': [\"incel\", \"boy\", \"man\"],\n",
    "             'attribute_1': [\"disagreeable\", \"shitload\", \"deceased\", \"abandoned\", \"depressed\", \"decay\", \"penniless\", \"sorrow\", \"feeble\", \"weak\", \"void\", \"idle\", \"nothing\", \"slow\", \"yawn\", \"tiny\", \"small\", \"meek\", \"sofa\", \"empty\", \"inactivity\", \"emptiness\", \"dryness\", \"drool\", \"bladder\"],\n",
    "             'attribute_2': [\"rearrange\", \"superintendent\", \"desire\", \"immense\", \"passion\", \"excite\", \"superpower\", \"champion\", \"almighty\", \"success\", \"generous\", \"perfect\", \"freedom\", \"excellence\", \"prestigious\", \"winning\", \"greatness\", \"triumph\", \"victorious\", \"mighty\", \"conquering\", \"conquer\", \"adrenaline\", \"intensity\", \"competitor\", \"wrestler\", \"warrior\", \"dominant\", \"exorbitant\"]}"
   ]
  },
  {
   "cell_type": "code",
   "execution_count": 136,
   "metadata": {},
   "outputs": [],
   "source": [
    "# create embeddings\n",
    "feminism_full_embeddings_dict = create_embeddings_dict(model_dict['feminism_full'], all_words)\n",
    "incels_full_embeddings_dict = create_embeddings_dict(model_dict['incels_full'], all_words)\n"
   ]
  },
  {
   "cell_type": "code",
   "execution_count": 113,
   "metadata": {},
   "outputs": [
    {
     "name": "stdout",
     "output_type": "stream",
     "text": [
      "Results for feminism_full:\n",
      "\teffect size: -1.0255852937698364\n",
      "\tp_value: 0.8755169969506597\n"
     ]
    }
   ],
   "source": [
    "# run WEAT\n",
    "print(\"Results for feminism_full:\")\n",
    "test_weat(feminism_full_embeddings_dict, 1000, 'normal')\n"
   ]
  },
  {
   "cell_type": "code",
   "execution_count": 114,
   "metadata": {},
   "outputs": [
    {
     "name": "stdout",
     "output_type": "stream",
     "text": [
      "Results for incels_full:\n",
      "\teffect size: -0.7051849365234375\n",
      "\tp_value: 0.7802936547308923\n"
     ]
    }
   ],
   "source": [
    "print(\"Results for incels_full:\")\n",
    "test_weat(incels_full_embeddings_dict, 1000, 'normal')"
   ]
  },
  {
   "cell_type": "markdown",
   "metadata": {},
   "source": [
    "### Experiment 2: Incel subreddits across time"
   ]
  },
  {
   "cell_type": "code",
   "execution_count": 60,
   "metadata": {},
   "outputs": [],
   "source": [
    "all_words = {'target_1': [\"feminist\", \"girl\", \"woman\"], \n",
    "             'target_2': [\"incel\", \"boy\", \"man\"],\n",
    "             'attribute_1': [\"nice\", \"beautiful\", \"cheerful\", \"wonderful\"],\n",
    "             'attribute_2': [\"mean\", \"ugly\", \"rude\", \"awful\"]}"
   ]
  },
  {
   "cell_type": "code",
   "execution_count": 64,
   "metadata": {},
   "outputs": [],
   "source": [
    "braincels_embeddings_dict = create_embeddings_dict(model_dict['braincels'], all_words)\n",
    "incels_embeddings_dict = create_embeddings_dict(model_dict['incels'], all_words)\n",
    "mensrights_embeddings_dict = create_embeddings_dict(model_dict['mensrights'], all_words)\n",
    "trufemcels_embeddings_dict = create_embeddings_dict(model_dict['trufemcels'], all_words)"
   ]
  },
  {
   "cell_type": "code",
   "execution_count": 65,
   "metadata": {},
   "outputs": [
    {
     "name": "stdout",
     "output_type": "stream",
     "text": [
      "Results for braincels:\n",
      "\teffect size: 0.6003853678703308\n",
      "\tp_value: 0.2625427021179424\n"
     ]
    }
   ],
   "source": [
    "print(\"Results for braincels:\")\n",
    "test_weat(braincels_embeddings_dict, 1000, 'normal')"
   ]
  },
  {
   "cell_type": "code",
   "execution_count": 66,
   "metadata": {},
   "outputs": [
    {
     "name": "stdout",
     "output_type": "stream",
     "text": [
      "Results for incels:\n",
      "\teffect size: 0.4175088703632355\n",
      "\tp_value: 0.32537145953079594\n"
     ]
    }
   ],
   "source": [
    "print(\"Results for incels:\")\n",
    "test_weat(incels_embeddings_dict, 1000, 'normal')"
   ]
  },
  {
   "cell_type": "code",
   "execution_count": 68,
   "metadata": {},
   "outputs": [
    {
     "name": "stdout",
     "output_type": "stream",
     "text": [
      "Results for mensrights:\n",
      "\teffect size: 0.8146820068359375\n",
      "\tp_value: 0.16984705290506352\n"
     ]
    }
   ],
   "source": [
    "print(\"Results for mensrights:\")\n",
    "test_weat(mensrights_embeddings_dict, 1000, 'normal')"
   ]
  },
  {
   "cell_type": "code",
   "execution_count": 69,
   "metadata": {},
   "outputs": [
    {
     "name": "stdout",
     "output_type": "stream",
     "text": [
      "Results for trufemcels:\n",
      "\teffect size: 0.999513566493988\n",
      "\tp_value: 0.12003415399244433\n"
     ]
    }
   ],
   "source": [
    "print(\"Results for trufemcels:\")\n",
    "test_weat(trufemcels_embeddings_dict, 1000, 'normal')"
   ]
  },
  {
   "cell_type": "markdown",
   "metadata": {},
   "source": [
    "### Experiment 3: r/feminism across time"
   ]
  },
  {
   "cell_type": "code",
   "execution_count": 71,
   "metadata": {},
   "outputs": [],
   "source": [
    "all_words = {'target_1': [\"feminist\", \"girl\", \"woman\"], \n",
    "             'target_2': [\"incel\", \"boy\", \"man\"],\n",
    "             'attribute_1': [\"nice\", \"beautiful\", \"happy\", \"wonderful\"],\n",
    "             'attribute_2': [\"mean\", \"ugly\", \"sad\", \"awful\"]}\n",
    "# note: cheerful is replaced by \"happy\" and to balance, \"rude\" is replaced by \"sad\""
   ]
  },
  {
   "cell_type": "code",
   "execution_count": 72,
   "metadata": {},
   "outputs": [],
   "source": [
    "feminism_2015_2017_embeddings_dict = create_embeddings_dict(model_dict['feminism_2015_2017'], all_words)\n",
    "feminism_2017_2019_embeddings_dict = create_embeddings_dict(model_dict['feminism_2017_2019'], all_words)\n",
    "feminism_2019_2021_embeddings_dict = create_embeddings_dict(model_dict['feminism_2019_2021'], all_words)\n",
    "feminism_2021_2023_embeddings_dict = create_embeddings_dict(model_dict['feminism_2021_2023'], all_words)"
   ]
  },
  {
   "cell_type": "code",
   "execution_count": 73,
   "metadata": {},
   "outputs": [
    {
     "name": "stdout",
     "output_type": "stream",
     "text": [
      "Results for feminism_2015_2017:\n",
      "\teffect size: 0.9019179940223694\n",
      "\tp_value: 0.16171066156932157\n"
     ]
    }
   ],
   "source": [
    "print(\"Results for feminism_2015_2017:\")\n",
    "test_weat(feminism_2015_2017_embeddings_dict, 1000, 'normal')"
   ]
  },
  {
   "cell_type": "code",
   "execution_count": 74,
   "metadata": {},
   "outputs": [
    {
     "name": "stdout",
     "output_type": "stream",
     "text": [
      "Results for feminism_2017_2019:\n",
      "\teffect size: 0.8591486215591431\n",
      "\tp_value: 0.15840957857267302\n"
     ]
    }
   ],
   "source": [
    "print(\"Results for feminism_2017_2019:\")\n",
    "test_weat(feminism_2017_2019_embeddings_dict, 1000, 'normal')"
   ]
  },
  {
   "cell_type": "code",
   "execution_count": 75,
   "metadata": {},
   "outputs": [
    {
     "name": "stdout",
     "output_type": "stream",
     "text": [
      "Results for feminism_2019_2021:\n",
      "\teffect size: 1.2137731313705444\n",
      "\tp_value: 0.0991475629290598\n"
     ]
    }
   ],
   "source": [
    "print(\"Results for feminism_2019_2021:\")\n",
    "test_weat(feminism_2019_2021_embeddings_dict, 1000, 'normal')"
   ]
  },
  {
   "cell_type": "code",
   "execution_count": 76,
   "metadata": {},
   "outputs": [
    {
     "name": "stdout",
     "output_type": "stream",
     "text": [
      "Results for feminism_2021_2023:\n",
      "\teffect size: 0.6987370252609253\n",
      "\tp_value: 0.21980526004633716\n"
     ]
    }
   ],
   "source": [
    "print(\"Results for feminism_2021_2023:\")\n",
    "test_weat(feminism_2021_2023_embeddings_dict, 1000, 'normal')"
   ]
  },
  {
   "cell_type": "markdown",
   "metadata": {},
   "source": [
    "### Experiment 4: Between feminism subreddits"
   ]
  },
  {
   "cell_type": "code",
   "execution_count": 79,
   "metadata": {},
   "outputs": [],
   "source": [
    "all_words = {'target_1': [\"feminist\", \"girl\", \"woman\"], \n",
    "             'target_2': [\"incel\", \"boy\", \"man\"],\n",
    "             'attribute_1': [\"nice\", \"beautiful\", \"happy\", \"wonderful\"],\n",
    "             'attribute_2': [\"mean\", \"ugly\", \"sad\", \"awful\"]}\n",
    "# note: cheerful is replaced by \"happy\" and to balance, \"rude\" is replaced by \"sad\""
   ]
  },
  {
   "cell_type": "code",
   "execution_count": 80,
   "metadata": {},
   "outputs": [],
   "source": [
    "blackladies_embeddings_dict = create_embeddings_dict(model_dict['blackladies'], all_words)\n",
    "fourthwavewomen_embeddings_dict = create_embeddings_dict(model_dict['fourthwavewomen'], all_words)\n",
    "women_embeddings_dict = create_embeddings_dict(model_dict['women'], all_words)"
   ]
  },
  {
   "cell_type": "code",
   "execution_count": 81,
   "metadata": {},
   "outputs": [
    {
     "name": "stdout",
     "output_type": "stream",
     "text": [
      "Results for feminism_full:\n",
      "\teffect size: 1.0739195346832275\n",
      "\tp_value: 0.10982385947538886\n"
     ]
    }
   ],
   "source": [
    "print(\"Results for feminism_full:\")\n",
    "test_weat(feminism_full_embeddings_dict, 1000, 'normal')"
   ]
  },
  {
   "cell_type": "code",
   "execution_count": 82,
   "metadata": {},
   "outputs": [
    {
     "name": "stdout",
     "output_type": "stream",
     "text": [
      "Results for blackladies:\n",
      "\teffect size: 1.1685402393341064\n",
      "\tp_value: 0.10169695354007424\n"
     ]
    }
   ],
   "source": [
    "print(\"Results for blackladies:\")\n",
    "test_weat(blackladies_embeddings_dict, 1000, 'normal')"
   ]
  },
  {
   "cell_type": "code",
   "execution_count": 83,
   "metadata": {},
   "outputs": [
    {
     "name": "stdout",
     "output_type": "stream",
     "text": [
      "Results for fourthwavewomen:\n",
      "\teffect size: 1.0381433963775635\n",
      "\tp_value: 0.1111839942242322\n"
     ]
    }
   ],
   "source": [
    "print(\"Results for fourthwavewomen:\")\n",
    "test_weat(fourthwavewomen_embeddings_dict, 1000, 'normal')"
   ]
  },
  {
   "cell_type": "code",
   "execution_count": 84,
   "metadata": {},
   "outputs": [
    {
     "name": "stdout",
     "output_type": "stream",
     "text": [
      "Results for women:\n",
      "\teffect size: 0.6590870022773743\n",
      "\tp_value: 0.24115049434301095\n"
     ]
    }
   ],
   "source": [
    "print(\"Results for women:\")\n",
    "test_weat(women_embeddings_dict, 1000, 'normal')"
   ]
  },
  {
   "cell_type": "markdown",
   "metadata": {},
   "source": [
    "### WEFAT"
   ]
  },
  {
   "cell_type": "code",
   "execution_count": 150,
   "metadata": {},
   "outputs": [],
   "source": [
    "# safe/dangerous\n",
    "safe_dangerous = {'attribute_1': [\"peculiarly\", \"hill\", \"terminology\", \"childhood\", \"accord\", \"cotton\", \"sleeping\", \"nap\", \"calm\", \"softness\", \"natural\", \"serenity\", \"reassurance\", \"peace\", \"angel\", \"harmonious\", \"honest\", \"blessing\", \"trustworthy\", \"wisdom\"],\n",
    "                  'attribute_2': [\"homicide\", \"wrath\", \"terrifying\", \"poisonous\", \"masochism\", \"obsessive\", \"acid\", \"claw\", \"hospital\", \"weld\", \"bankruptcy\", \"suffering\", \"mistreated\", \"abused\", \"misbehave\", \"suicidal\", \"chaos\", \"toxic\", \"bloodbath\", \"killer\", \"murderer\", \"assassinate\", \"earthquake\", \"missile\", \"firearm\", \"firing\", \"firearms\"]}"
   ]
  },
  {
   "cell_type": "code",
   "execution_count": 151,
   "metadata": {},
   "outputs": [],
   "source": [
    "# weak/powerful\n",
    "weak_powerful = {'attribute_1': [\"disagreeable\", \"shitload\", \"deceased\", \"abandoned\", \"depressed\", \"decay\", \"penniless\", \"sorrow\", \"feeble\", \"weak\", \"void\", \"idle\", \"nothing\", \"slow\", \"yawn\", \"tiny\", \"small\", \"meek\", \"sofa\", \"empty\", \"inactivity\", \"emptiness\", \"dryness\", \"drool\", \"bladder\"],\n",
    "                 'attribute_2': [\"rearrange\", \"superintendent\", \"desire\", \"immense\", \"passion\", \"excite\", \"superpower\", \"champion\", \"almighty\", \"success\", \"generous\", \"perfect\", \"freedom\", \"excellence\", \"prestigious\", \"winning\", \"greatness\", \"triumph\", \"victorious\", \"mighty\", \"conquering\", \"conquer\", \"adrenaline\", \"intensity\", \"competitor\", \"wrestler\", \"warrior\", \"dominant\", \"exorbitant\"]}"
   ]
  },
  {
   "cell_type": "code",
   "execution_count": 152,
   "metadata": {},
   "outputs": [],
   "source": [
    "def read_dict_from_file(file_path):\n",
    "    with open(file_path, 'r') as file:\n",
    "        dict = json.load(file)\n",
    "    return dict"
   ]
  },
  {
   "cell_type": "code",
   "execution_count": 153,
   "metadata": {},
   "outputs": [],
   "source": [
    "target_word_file = \"target_words.txt\"\n",
    "target_words = read_dict_from_file(target_word_file)"
   ]
  },
  {
   "cell_type": "code",
   "execution_count": 162,
   "metadata": {},
   "outputs": [],
   "source": [
    "def calculate_wefat(target_words, model_dict, attributes):\n",
    "    results = {}\n",
    "    for corpus in model_dict.keys():\n",
    "        print(f\"Corpus: {corpus}\")\n",
    "        target_attribute = attributes.copy()\n",
    "        target_attribute['target'] = target_words[corpus]\n",
    "        embeddings_dict = create_embeddings_dict(model_dict[corpus], target_attribute)\n",
    "        effect_sizes = test_wefat(embeddings_dict)\n",
    "        results[corpus] = effect_sizes\n",
    "    return results"
   ]
  },
  {
   "cell_type": "code",
   "execution_count": 163,
   "metadata": {},
   "outputs": [
    {
     "name": "stdout",
     "output_type": "stream",
     "text": [
      "Corpus: blackladies\n",
      "peculiarly is not in the corpus\n",
      "masochism is not in the corpus\n",
      "mistreated is not in the corpus\n",
      "bloodbath is not in the corpus\n",
      "firearms is not in the corpus\n",
      "normie is not in the corpus\n",
      "Corpus: braincels\n",
      "peculiarly is not in the corpus\n",
      "onlyfans is not in the corpus\n",
      "Corpus: feminisms\n",
      "peculiarly is not in the corpus\n",
      "hill is not in the corpus\n",
      "terminology is not in the corpus\n",
      "cotton is not in the corpus\n",
      "sleeping is not in the corpus\n",
      "nap is not in the corpus\n",
      "softness is not in the corpus\n",
      "serenity is not in the corpus\n",
      "reassurance is not in the corpus\n",
      "angel is not in the corpus\n",
      "harmonious is not in the corpus\n",
      "blessing is not in the corpus\n",
      "trustworthy is not in the corpus\n",
      "wisdom is not in the corpus\n",
      "wrath is not in the corpus\n",
      "terrifying is not in the corpus\n",
      "poisonous is not in the corpus\n",
      "masochism is not in the corpus\n",
      "obsessive is not in the corpus\n",
      "acid is not in the corpus\n",
      "claw is not in the corpus\n",
      "weld is not in the corpus\n",
      "bankruptcy is not in the corpus\n",
      "suffering is not in the corpus\n",
      "mistreated is not in the corpus\n",
      "abused is not in the corpus\n",
      "misbehave is not in the corpus\n",
      "suicidal is not in the corpus\n",
      "chaos is not in the corpus\n",
      "bloodbath is not in the corpus\n",
      "killer is not in the corpus\n",
      "murderer is not in the corpus\n",
      "assassinate is not in the corpus\n",
      "earthquake is not in the corpus\n",
      "missile is not in the corpus\n",
      "firearm is not in the corpus\n",
      "firing is not in the corpus\n",
      "firearms is not in the corpus\n",
      "chad is not in the corpus\n",
      "stacy is not in the corpus\n",
      "slut is not in the corpus\n",
      "whore is not in the corpus\n",
      "beta is not in the corpus\n",
      "menstruation is not in the corpus\n",
      "promiscuous is not in the corpus\n",
      "Corpus: feminismuncensored\n",
      "peculiarly is not in the corpus\n",
      "cotton is not in the corpus\n",
      "softness is not in the corpus\n",
      "serenity is not in the corpus\n",
      "reassurance is not in the corpus\n",
      "terrifying is not in the corpus\n",
      "masochism is not in the corpus\n",
      "weld is not in the corpus\n",
      "mistreated is not in the corpus\n",
      "bloodbath is not in the corpus\n",
      "earthquake is not in the corpus\n",
      "missile is not in the corpus\n",
      "firearms is not in the corpus\n",
      "stacy is not in the corpus\n",
      "Corpus: feminism_2015_2017\n",
      "peculiarly is not in the corpus\n",
      "cotton is not in the corpus\n",
      "sleeping is not in the corpus\n",
      "nap is not in the corpus\n",
      "softness is not in the corpus\n",
      "serenity is not in the corpus\n",
      "reassurance is not in the corpus\n",
      "harmonious is not in the corpus\n",
      "wrath is not in the corpus\n",
      "masochism is not in the corpus\n",
      "claw is not in the corpus\n",
      "bankruptcy is not in the corpus\n",
      "mistreated is not in the corpus\n",
      "misbehave is not in the corpus\n",
      "bloodbath is not in the corpus\n",
      "assassinate is not in the corpus\n",
      "earthquake is not in the corpus\n",
      "missile is not in the corpus\n",
      "firing is not in the corpus\n",
      "firearms is not in the corpus\n",
      "chad is not in the corpus\n",
      "karen is not in the corpus\n",
      "stacy is not in the corpus\n",
      "becky is not in the corpus\n",
      "Corpus: feminism_2017_2019\n",
      "peculiarly is not in the corpus\n",
      "sleeping is not in the corpus\n",
      "nap is not in the corpus\n",
      "softness is not in the corpus\n",
      "serenity is not in the corpus\n",
      "harmonious is not in the corpus\n",
      "wrath is not in the corpus\n",
      "masochism is not in the corpus\n",
      "mistreated is not in the corpus\n",
      "misbehave is not in the corpus\n",
      "bloodbath is not in the corpus\n",
      "earthquake is not in the corpus\n",
      "missile is not in the corpus\n",
      "firearms is not in the corpus\n",
      "stacy is not in the corpus\n",
      "normie is not in the corpus\n",
      "becky is not in the corpus\n",
      "femoid is not in the corpus\n",
      "Corpus: feminism_2019_2021\n",
      "peculiarly is not in the corpus\n",
      "softness is not in the corpus\n",
      "serenity is not in the corpus\n",
      "harmonious is not in the corpus\n",
      "mistreated is not in the corpus\n",
      "bloodbath is not in the corpus\n",
      "earthquake is not in the corpus\n",
      "missile is not in the corpus\n",
      "firearms is not in the corpus\n",
      "stacy is not in the corpus\n",
      "femcel is not in the corpus\n",
      "foid is not in the corpus\n",
      "normie is not in the corpus\n",
      "becky is not in the corpus\n",
      "Corpus: feminism_2021_2023\n",
      "peculiarly is not in the corpus\n",
      "sleeping is not in the corpus\n",
      "serenity is not in the corpus\n",
      "masochism is not in the corpus\n",
      "bankruptcy is not in the corpus\n",
      "mistreated is not in the corpus\n",
      "earthquake is not in the corpus\n",
      "firing is not in the corpus\n",
      "firearms is not in the corpus\n",
      "stacy is not in the corpus\n",
      "foid is not in the corpus\n",
      "normie is not in the corpus\n",
      "Corpus: feminism_full\n",
      "Corpus: fireyfemmes\n",
      "peculiarly is not in the corpus\n",
      "softness is not in the corpus\n",
      "serenity is not in the corpus\n",
      "harmonious is not in the corpus\n",
      "homicide is not in the corpus\n",
      "wrath is not in the corpus\n",
      "poisonous is not in the corpus\n",
      "masochism is not in the corpus\n",
      "mistreated is not in the corpus\n",
      "abused is not in the corpus\n",
      "misbehave is not in the corpus\n",
      "bloodbath is not in the corpus\n",
      "murderer is not in the corpus\n",
      "assassinate is not in the corpus\n",
      "earthquake is not in the corpus\n",
      "missile is not in the corpus\n",
      "firearm is not in the corpus\n",
      "firing is not in the corpus\n",
      "firearms is not in the corpus\n",
      "marginalized is not in the corpus\n",
      "prostitution is not in the corpus\n",
      "vagina is not in the corpus\n",
      "whore is not in the corpus\n",
      "normie is not in the corpus\n",
      "menstruation is not in the corpus\n",
      "incel is not in the corpus\n",
      "becky is not in the corpus\n",
      "onlyfans is not in the corpus\n",
      "Corpus: fourthwavewomen\n",
      "peculiarly is not in the corpus\n",
      "serenity is not in the corpus\n",
      "harmonious is not in the corpus\n",
      "weld is not in the corpus\n",
      "bankruptcy is not in the corpus\n",
      "mistreated is not in the corpus\n",
      "bloodbath is not in the corpus\n",
      "assassinate is not in the corpus\n",
      "earthquake is not in the corpus\n",
      "missile is not in the corpus\n",
      "firing is not in the corpus\n",
      "stacy is not in the corpus\n",
      "foid is not in the corpus\n",
      "Corpus: incels\n",
      "peculiarly is not in the corpus\n",
      "bloodbath is not in the corpus\n",
      "firearms is not in the corpus\n",
      "foid is not in the corpus\n",
      "Corpus: incels_full\n",
      "Corpus: mensrights\n",
      "peculiarly is not in the corpus\n",
      "Corpus: trufemcels\n",
      "peculiarly is not in the corpus\n",
      "serenity is not in the corpus\n",
      "homicide is not in the corpus\n",
      "weld is not in the corpus\n",
      "bankruptcy is not in the corpus\n",
      "mistreated is not in the corpus\n",
      "misbehave is not in the corpus\n",
      "bloodbath is not in the corpus\n",
      "assassinate is not in the corpus\n",
      "earthquake is not in the corpus\n",
      "missile is not in the corpus\n",
      "firearm is not in the corpus\n",
      "firing is not in the corpus\n",
      "firearms is not in the corpus\n",
      "femoid is not in the corpus\n",
      "Corpus: women\n",
      "peculiarly is not in the corpus\n",
      "serenity is not in the corpus\n",
      "harmonious is not in the corpus\n",
      "masochism is not in the corpus\n",
      "weld is not in the corpus\n",
      "mistreated is not in the corpus\n",
      "misbehave is not in the corpus\n",
      "bloodbath is not in the corpus\n",
      "assassinate is not in the corpus\n",
      "missile is not in the corpus\n",
      "firearms is not in the corpus\n",
      "stacy is not in the corpus\n",
      "normie is not in the corpus\n",
      "becky is not in the corpus\n",
      "femoid is not in the corpus\n"
     ]
    }
   ],
   "source": [
    "safe_dangerous_wefat = calculate_wefat(target_words, model_dict, safe_dangerous)"
   ]
  },
  {
   "cell_type": "code",
   "execution_count": 164,
   "metadata": {},
   "outputs": [
    {
     "name": "stdout",
     "output_type": "stream",
     "text": [
      "Corpus: blackladies\n",
      "disagreeable is not in the corpus\n",
      "abandoned is not in the corpus\n",
      "penniless is not in the corpus\n",
      "inactivity is not in the corpus\n",
      "almighty is not in the corpus\n",
      "conquering is not in the corpus\n",
      "normie is not in the corpus\n",
      "Corpus: braincels\n",
      "onlyfans is not in the corpus\n",
      "Corpus: feminisms\n",
      "disagreeable is not in the corpus\n",
      "shitload is not in the corpus\n",
      "deceased is not in the corpus\n",
      "abandoned is not in the corpus\n",
      "depressed is not in the corpus\n",
      "decay is not in the corpus\n",
      "penniless is not in the corpus\n",
      "sorrow is not in the corpus\n",
      "feeble is not in the corpus\n",
      "void is not in the corpus\n",
      "idle is not in the corpus\n",
      "yawn is not in the corpus\n",
      "meek is not in the corpus\n",
      "sofa is not in the corpus\n",
      "inactivity is not in the corpus\n",
      "emptiness is not in the corpus\n",
      "dryness is not in the corpus\n",
      "drool is not in the corpus\n",
      "bladder is not in the corpus\n",
      "rearrange is not in the corpus\n",
      "superintendent is not in the corpus\n",
      "immense is not in the corpus\n",
      "passion is not in the corpus\n",
      "excite is not in the corpus\n",
      "superpower is not in the corpus\n",
      "champion is not in the corpus\n",
      "almighty is not in the corpus\n",
      "excellence is not in the corpus\n",
      "prestigious is not in the corpus\n",
      "winning is not in the corpus\n",
      "greatness is not in the corpus\n",
      "triumph is not in the corpus\n",
      "victorious is not in the corpus\n",
      "mighty is not in the corpus\n",
      "conquering is not in the corpus\n",
      "conquer is not in the corpus\n",
      "adrenaline is not in the corpus\n",
      "intensity is not in the corpus\n",
      "competitor is not in the corpus\n",
      "wrestler is not in the corpus\n",
      "warrior is not in the corpus\n",
      "exorbitant is not in the corpus\n",
      "chad is not in the corpus\n",
      "stacy is not in the corpus\n",
      "slut is not in the corpus\n",
      "whore is not in the corpus\n",
      "beta is not in the corpus\n",
      "menstruation is not in the corpus\n",
      "promiscuous is not in the corpus\n",
      "Corpus: feminismuncensored\n",
      "deceased is not in the corpus\n",
      "abandoned is not in the corpus\n",
      "penniless is not in the corpus\n",
      "meek is not in the corpus\n",
      "inactivity is not in the corpus\n",
      "emptiness is not in the corpus\n",
      "dryness is not in the corpus\n",
      "drool is not in the corpus\n",
      "rearrange is not in the corpus\n",
      "superintendent is not in the corpus\n",
      "almighty is not in the corpus\n",
      "greatness is not in the corpus\n",
      "victorious is not in the corpus\n",
      "conquering is not in the corpus\n",
      "adrenaline is not in the corpus\n",
      "wrestler is not in the corpus\n",
      "exorbitant is not in the corpus\n",
      "stacy is not in the corpus\n",
      "Corpus: feminism_2015_2017\n",
      "disagreeable is not in the corpus\n",
      "shitload is not in the corpus\n",
      "deceased is not in the corpus\n",
      "abandoned is not in the corpus\n",
      "decay is not in the corpus\n",
      "penniless is not in the corpus\n",
      "sorrow is not in the corpus\n",
      "feeble is not in the corpus\n",
      "idle is not in the corpus\n",
      "yawn is not in the corpus\n",
      "meek is not in the corpus\n",
      "sofa is not in the corpus\n",
      "inactivity is not in the corpus\n",
      "emptiness is not in the corpus\n",
      "dryness is not in the corpus\n",
      "drool is not in the corpus\n",
      "rearrange is not in the corpus\n",
      "superintendent is not in the corpus\n",
      "almighty is not in the corpus\n",
      "excellence is not in the corpus\n",
      "prestigious is not in the corpus\n",
      "victorious is not in the corpus\n",
      "conquering is not in the corpus\n",
      "adrenaline is not in the corpus\n",
      "intensity is not in the corpus\n",
      "exorbitant is not in the corpus\n",
      "chad is not in the corpus\n",
      "karen is not in the corpus\n",
      "stacy is not in the corpus\n",
      "becky is not in the corpus\n",
      "Corpus: feminism_2017_2019\n",
      "deceased is not in the corpus\n",
      "abandoned is not in the corpus\n",
      "penniless is not in the corpus\n",
      "sorrow is not in the corpus\n",
      "idle is not in the corpus\n",
      "sofa is not in the corpus\n",
      "inactivity is not in the corpus\n",
      "emptiness is not in the corpus\n",
      "dryness is not in the corpus\n",
      "superpower is not in the corpus\n",
      "almighty is not in the corpus\n",
      "greatness is not in the corpus\n",
      "victorious is not in the corpus\n",
      "conquering is not in the corpus\n",
      "adrenaline is not in the corpus\n",
      "exorbitant is not in the corpus\n",
      "stacy is not in the corpus\n",
      "normie is not in the corpus\n",
      "becky is not in the corpus\n",
      "femoid is not in the corpus\n",
      "Corpus: feminism_2019_2021\n",
      "abandoned is not in the corpus\n",
      "penniless is not in the corpus\n",
      "sorrow is not in the corpus\n",
      "feeble is not in the corpus\n",
      "inactivity is not in the corpus\n",
      "emptiness is not in the corpus\n",
      "drool is not in the corpus\n",
      "almighty is not in the corpus\n",
      "conquering is not in the corpus\n",
      "adrenaline is not in the corpus\n",
      "exorbitant is not in the corpus\n",
      "stacy is not in the corpus\n",
      "femcel is not in the corpus\n",
      "foid is not in the corpus\n",
      "normie is not in the corpus\n",
      "becky is not in the corpus\n",
      "Corpus: feminism_2021_2023\n",
      "disagreeable is not in the corpus\n",
      "shitload is not in the corpus\n",
      "deceased is not in the corpus\n",
      "abandoned is not in the corpus\n",
      "decay is not in the corpus\n",
      "penniless is not in the corpus\n",
      "feeble is not in the corpus\n",
      "idle is not in the corpus\n",
      "yawn is not in the corpus\n",
      "inactivity is not in the corpus\n",
      "emptiness is not in the corpus\n",
      "dryness is not in the corpus\n",
      "rearrange is not in the corpus\n",
      "victorious is not in the corpus\n",
      "conquering is not in the corpus\n",
      "stacy is not in the corpus\n",
      "foid is not in the corpus\n",
      "normie is not in the corpus\n",
      "Corpus: feminism_full\n",
      "Corpus: fireyfemmes\n",
      "disagreeable is not in the corpus\n",
      "shitload is not in the corpus\n",
      "deceased is not in the corpus\n",
      "abandoned is not in the corpus\n",
      "decay is not in the corpus\n",
      "penniless is not in the corpus\n",
      "sorrow is not in the corpus\n",
      "feeble is not in the corpus\n",
      "idle is not in the corpus\n",
      "yawn is not in the corpus\n",
      "meek is not in the corpus\n",
      "inactivity is not in the corpus\n",
      "emptiness is not in the corpus\n",
      "dryness is not in the corpus\n",
      "drool is not in the corpus\n",
      "superintendent is not in the corpus\n",
      "superpower is not in the corpus\n",
      "almighty is not in the corpus\n",
      "greatness is not in the corpus\n",
      "victorious is not in the corpus\n",
      "mighty is not in the corpus\n",
      "conquering is not in the corpus\n",
      "wrestler is not in the corpus\n",
      "warrior is not in the corpus\n",
      "marginalized is not in the corpus\n",
      "prostitution is not in the corpus\n",
      "vagina is not in the corpus\n",
      "whore is not in the corpus\n",
      "normie is not in the corpus\n",
      "menstruation is not in the corpus\n",
      "incel is not in the corpus\n",
      "becky is not in the corpus\n",
      "onlyfans is not in the corpus\n",
      "Corpus: fourthwavewomen\n",
      "disagreeable is not in the corpus\n",
      "deceased is not in the corpus\n",
      "abandoned is not in the corpus\n",
      "penniless is not in the corpus\n",
      "feeble is not in the corpus\n",
      "idle is not in the corpus\n",
      "yawn is not in the corpus\n",
      "sofa is not in the corpus\n",
      "inactivity is not in the corpus\n",
      "dryness is not in the corpus\n",
      "rearrange is not in the corpus\n",
      "superintendent is not in the corpus\n",
      "superpower is not in the corpus\n",
      "excellence is not in the corpus\n",
      "greatness is not in the corpus\n",
      "triumph is not in the corpus\n",
      "victorious is not in the corpus\n",
      "conquering is not in the corpus\n",
      "wrestler is not in the corpus\n",
      "exorbitant is not in the corpus\n",
      "stacy is not in the corpus\n",
      "foid is not in the corpus\n",
      "Corpus: incels\n",
      "abandoned is not in the corpus\n",
      "superintendent is not in the corpus\n",
      "foid is not in the corpus\n",
      "Corpus: incels_full\n",
      "Corpus: mensrights\n",
      "conquering is not in the corpus\n",
      "Corpus: trufemcels\n",
      "disagreeable is not in the corpus\n",
      "deceased is not in the corpus\n",
      "abandoned is not in the corpus\n",
      "penniless is not in the corpus\n",
      "feeble is not in the corpus\n",
      "sofa is not in the corpus\n",
      "inactivity is not in the corpus\n",
      "dryness is not in the corpus\n",
      "bladder is not in the corpus\n",
      "superintendent is not in the corpus\n",
      "almighty is not in the corpus\n",
      "excellence is not in the corpus\n",
      "greatness is not in the corpus\n",
      "triumph is not in the corpus\n",
      "victorious is not in the corpus\n",
      "conquering is not in the corpus\n",
      "wrestler is not in the corpus\n",
      "exorbitant is not in the corpus\n",
      "femoid is not in the corpus\n",
      "Corpus: women\n",
      "disagreeable is not in the corpus\n",
      "deceased is not in the corpus\n",
      "abandoned is not in the corpus\n",
      "decay is not in the corpus\n",
      "penniless is not in the corpus\n",
      "feeble is not in the corpus\n",
      "inactivity is not in the corpus\n",
      "excellence is not in the corpus\n",
      "victorious is not in the corpus\n",
      "conquering is not in the corpus\n",
      "wrestler is not in the corpus\n",
      "exorbitant is not in the corpus\n",
      "stacy is not in the corpus\n",
      "normie is not in the corpus\n",
      "becky is not in the corpus\n",
      "femoid is not in the corpus\n"
     ]
    }
   ],
   "source": [
    "weak_powerful_wefat = calculate_wefat(target_words, model_dict, weak_powerful)"
   ]
  },
  {
   "cell_type": "code",
   "execution_count": 169,
   "metadata": {},
   "outputs": [],
   "source": [
    "# safe/dangerous: > 0 => safe, < 0 => dangerous\n",
    "# weak/powerful: > 0 => weak, < 0 => powerful\n",
    "# in general, association with attribute 1 is > 0, with attribute 2 is < 0\n",
    "def get_top_n_words(word_dict, n, is_attribute_1):\n",
    "    return dict(sorted(word_dict.items(), key=lambda item: item[1], reverse=is_attribute_1)[0:n])\n"
   ]
  },
  {
   "cell_type": "code",
   "execution_count": 170,
   "metadata": {},
   "outputs": [
    {
     "data": {
      "text/plain": [
       "{'love': 0.7123157,\n",
       " 'gender': 0.49187315,\n",
       " 'queer': 0.34608305,\n",
       " 'feminine': 0.34277618,\n",
       " 'personality': 0.29224607}"
      ]
     },
     "execution_count": 170,
     "metadata": {},
     "output_type": "execute_result"
    }
   ],
   "source": [
    "get_top_n_words(safe_dangerous_wefat['feminism_full'], 5, True)"
   ]
  },
  {
   "cell_type": "code",
   "execution_count": 171,
   "metadata": {},
   "outputs": [
    {
     "data": {
      "text/plain": [
       "{'abuse': -1.0854567,\n",
       " 'rape': -1.04738,\n",
       " 'sexual_assault': -0.94468856,\n",
       " 'woman': -0.6860135,\n",
       " 'incel': -0.6776244}"
      ]
     },
     "execution_count": 171,
     "metadata": {},
     "output_type": "execute_result"
    }
   ],
   "source": [
    "get_top_n_words(safe_dangerous_wefat['feminism_full'], 5, False)"
   ]
  },
  {
   "cell_type": "code",
   "execution_count": 173,
   "metadata": {},
   "outputs": [
    {
     "data": {
      "text/plain": [
       "{'cuck': 0.68850154,\n",
       " 'incel': 0.67160153,\n",
       " 'gay': 0.653799,\n",
       " 'vagina': 0.38201907,\n",
       " 'guy': 0.38177663}"
      ]
     },
     "execution_count": 173,
     "metadata": {},
     "output_type": "execute_result"
    }
   ],
   "source": [
    "get_top_n_words(weak_powerful_wefat['feminism_full'], 5, True)"
   ]
  },
  {
   "cell_type": "code",
   "execution_count": 174,
   "metadata": {},
   "outputs": [
    {
     "data": {
      "text/plain": [
       "{'woman': -0.5603854,\n",
       " 'female': -0.5469336,\n",
       " 'male': -0.51924366,\n",
       " 'hillary_clinton': -0.43403992,\n",
       " 'white': -0.38744622}"
      ]
     },
     "execution_count": 174,
     "metadata": {},
     "output_type": "execute_result"
    }
   ],
   "source": [
    "get_top_n_words(weak_powerful_wefat['feminism_full'], 5, False)"
   ]
  },
  {
   "cell_type": "code",
   "execution_count": 177,
   "metadata": {},
   "outputs": [],
   "source": [
    "potential_words = \"chad, ugly, virgin, incel, normie, beta, abortion, sexist, feminist, gender, trans, whore, virgin, rape, birth_control, porn, sexual_assault, love, abuse, prostitution, slut_shaming, onlyfans, bodily_autonomy, taylor_swift, hillary_clinton, cuck, consent, period, sex, drag, gay, queer, pleasure, man, woman, male, female, feminine, masculine, foid, femoid, marginalized, black, white, vagina, menstruation, girl, boy, guy, becky, stacy, karen, femcel, slut, promiscuous, short, attractive, personality\"\n",
    "potential_words = set(potential_words.split(\", \"))"
   ]
  },
  {
   "cell_type": "code",
   "execution_count": 189,
   "metadata": {},
   "outputs": [],
   "source": [
    "def fill_dict(wefat_dict, file_name, potential_words):\n",
    "    for corpus in wefat_dict.keys():\n",
    "        for word in potential_words:\n",
    "            if word not in wefat_dict[corpus].keys():\n",
    "                wefat_dict[corpus][word] = None\n",
    "    \n",
    "    df = pd.DataFrame.from_dict(wefat_dict) \n",
    "    df.to_csv(file_name, index=True, header=True)\n",
    "    return df\n",
    "    "
   ]
  },
  {
   "cell_type": "code",
   "execution_count": 190,
   "metadata": {},
   "outputs": [],
   "source": [
    "weak_powerful_df = write_dict_to_csv(weak_powerful_wefat, 'weak_powerful_wefat.csv', potential_words)"
   ]
  },
  {
   "cell_type": "code",
   "execution_count": 191,
   "metadata": {},
   "outputs": [],
   "source": [
    "safe_dangerous_df = write_dict_to_csv(safe_dangerous_wefat, 'safe_dangerous_wefat.csv', potential_words)"
   ]
  },
  {
   "cell_type": "code",
   "execution_count": 192,
   "metadata": {},
   "outputs": [],
   "source": [
    "weak_powerful_df\n"
   ]
  }
 ],
 "metadata": {
  "kernelspec": {
   "display_name": "reddit_bias",
   "language": "python",
   "name": "python3"
  },
  "language_info": {
   "codemirror_mode": {
    "name": "ipython",
    "version": 3
   },
   "file_extension": ".py",
   "mimetype": "text/x-python",
   "name": "python",
   "nbconvert_exporter": "python",
   "pygments_lexer": "ipython3",
   "version": "3.12.3"
  }
 },
 "nbformat": 4,
 "nbformat_minor": 2
}
