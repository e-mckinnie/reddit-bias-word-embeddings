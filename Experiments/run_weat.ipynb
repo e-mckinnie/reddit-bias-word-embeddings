{
 "cells": [
  {
   "cell_type": "code",
   "execution_count": 40,
   "metadata": {},
   "outputs": [],
   "source": [
    "import numpy as np\n",
    "import os\n",
    "from gensim.models import Word2Vec\n",
    "from weat import WEAT"
   ]
  },
  {
   "cell_type": "markdown",
   "metadata": {},
   "source": [
    "### Load Word2Vec models"
   ]
  },
  {
   "cell_type": "code",
   "execution_count": 21,
   "metadata": {},
   "outputs": [],
   "source": [
    "def create_model_dict(embeddings_path):\n",
    "    embedding_files = os.listdir(embeddings_path)\n",
    "    model_dict = {}\n",
    "    for file in embedding_files:\n",
    "        name, ext = os.path.splitext(file)\n",
    "        if ext == '.bin':\n",
    "            print(f\"Loading Word2Vec from {file}\")\n",
    "            model_dict[file.split(\".\")[0]] = Word2Vec.load(f\"{embeddings_path}/{file}\")\n",
    "    return model_dict        "
   ]
  },
  {
   "cell_type": "code",
   "execution_count": 22,
   "metadata": {},
   "outputs": [
    {
     "name": "stdout",
     "output_type": "stream",
     "text": [
      "Loading Word2Vec from blackladies.bin\n",
      "Loading Word2Vec from braincels.bin\n",
      "Loading Word2Vec from feminisms.bin\n",
      "Loading Word2Vec from feminismuncensored.bin\n",
      "Loading Word2Vec from feminism_2015_2017.bin\n",
      "Loading Word2Vec from feminism_2017_2019.bin\n",
      "Loading Word2Vec from feminism_2019_2021.bin\n",
      "Loading Word2Vec from feminism_2021_2023.bin\n",
      "Loading Word2Vec from feminism_full.bin\n",
      "Loading Word2Vec from fireyfemmes.bin\n",
      "Loading Word2Vec from fourthwavewomen.bin\n",
      "Loading Word2Vec from incels.bin\n",
      "Loading Word2Vec from incels_full.bin\n",
      "Loading Word2Vec from mensrights.bin\n",
      "Loading Word2Vec from trufemcels.bin\n",
      "Loading Word2Vec from women.bin\n"
     ]
    }
   ],
   "source": [
    "embeddings_path = \"../data/embeddings\"\n",
    "model_dict = create_model_dict(embeddings_path)"
   ]
  },
  {
   "cell_type": "markdown",
   "metadata": {},
   "source": [
    "### Functions to create embeddings and run WEAT"
   ]
  },
  {
   "cell_type": "code",
   "execution_count": 50,
   "metadata": {},
   "outputs": [],
   "source": [
    "def create_embeddings_dict(corpora_model, all_words):\n",
    "    embedding_dict = {}\n",
    "    for key in all_words.keys():\n",
    "        embeddings = []\n",
    "        for word in all_words[key]:\n",
    "            try:\n",
    "                embeddings.append(np.array(corpora_model.wv[word], dtype='float32'))\n",
    "            except:\n",
    "                print(f\"{word} is not in the corpus\")\n",
    "        embedding_dict[key] = embeddings\n",
    "    return embedding_dict\n",
    "    "
   ]
  },
  {
   "cell_type": "code",
   "execution_count": 54,
   "metadata": {},
   "outputs": [],
   "source": [
    "# https://github.com/e-mckinnie/WEAT\n",
    "# authored by Elizabeth McKinnie, 2022\n",
    "# from main.py\n",
    "def test_weat(embedded_data, iterations, distribution_type):\n",
    "    test = WEAT(embedded_data['target_1'], embedded_data['target_2'], embedded_data['attribute_1'], embedded_data['attribute_2'])\n",
    "\n",
    "    d = test.effect_size()\n",
    "    print(f'\\teffect size: {d}')\n",
    "\n",
    "    p_value = test.p_value(iterations, distribution_type)\n",
    "    print(f'\\tp_value: {p_value}')"
   ]
  },
  {
   "cell_type": "markdown",
   "metadata": {},
   "source": [
    "### Experiment 1: All incel subreddits vs r/feminism"
   ]
  },
  {
   "cell_type": "code",
   "execution_count": 28,
   "metadata": {},
   "outputs": [],
   "source": [
    "# define target and attribute words\n",
    "all_words = {'target_1': [\"feminist\", \"girl\", \"woman\"], \n",
    "             'target_2': [\"incel\", \"boy\", \"man\"],\n",
    "             'attribute_1': [\"nice\", \"beautiful\", \"cheerful\", \"wonderful\"],\n",
    "             'attribute_2': [\"mean\", \"ugly\", \"rude\", \"awful\"]}"
   ]
  },
  {
   "cell_type": "code",
   "execution_count": 55,
   "metadata": {},
   "outputs": [],
   "source": [
    "# create embeddings\n",
    "feminism_full_embeddings_dict = create_embeddings_dict(model_dict['feminism_full'], all_words)\n",
    "incels_full_embeddings_dict = create_embeddings_dict(model_dict['incels_full'], all_words)\n"
   ]
  },
  {
   "cell_type": "code",
   "execution_count": 56,
   "metadata": {},
   "outputs": [
    {
     "name": "stdout",
     "output_type": "stream",
     "text": [
      "Results for feminism_full:\n",
      "\teffect size: 0.9654794931411743\n",
      "\tp_value: 0.13897742254614343\n"
     ]
    }
   ],
   "source": [
    "# run WEAT\n",
    "print(\"Results for feminism_full:\")\n",
    "test_weat(feminism_full_embeddings_dict, 1000, 'normal')"
   ]
  },
  {
   "cell_type": "code",
   "execution_count": 57,
   "metadata": {},
   "outputs": [
    {
     "name": "stdout",
     "output_type": "stream",
     "text": [
      "Results for incels_full:\n",
      "\teffect size: 0.7837547659873962\n",
      "\tp_value: 0.19325508930447266\n"
     ]
    }
   ],
   "source": [
    "print(\"Results for incels_full:\")\n",
    "test_weat(incels_full_embeddings_dict, 1000, 'normal')"
   ]
  },
  {
   "cell_type": "markdown",
   "metadata": {},
   "source": [
    "### Experiment 2: Incel subreddits across time"
   ]
  },
  {
   "cell_type": "code",
   "execution_count": 60,
   "metadata": {},
   "outputs": [],
   "source": [
    "all_words = {'target_1': [\"feminist\", \"girl\", \"woman\"], \n",
    "             'target_2': [\"incel\", \"boy\", \"man\"],\n",
    "             'attribute_1': [\"nice\", \"beautiful\", \"cheerful\", \"wonderful\"],\n",
    "             'attribute_2': [\"mean\", \"ugly\", \"rude\", \"awful\"]}"
   ]
  },
  {
   "cell_type": "code",
   "execution_count": 64,
   "metadata": {},
   "outputs": [],
   "source": [
    "braincels_embeddings_dict = create_embeddings_dict(model_dict['braincels'], all_words)\n",
    "incels_embeddings_dict = create_embeddings_dict(model_dict['incels'], all_words)\n",
    "mensrights_embeddings_dict = create_embeddings_dict(model_dict['mensrights'], all_words)\n",
    "trufemcels_embeddings_dict = create_embeddings_dict(model_dict['trufemcels'], all_words)\n",
    "\n",
    "\n"
   ]
  },
  {
   "cell_type": "code",
   "execution_count": 65,
   "metadata": {},
   "outputs": [
    {
     "name": "stdout",
     "output_type": "stream",
     "text": [
      "Results for braincels:\n",
      "\teffect size: 0.6003853678703308\n",
      "\tp_value: 0.2625427021179424\n"
     ]
    }
   ],
   "source": [
    "print(\"Results for braincels:\")\n",
    "test_weat(braincels_embeddings_dict, 1000, 'normal')"
   ]
  },
  {
   "cell_type": "code",
   "execution_count": 66,
   "metadata": {},
   "outputs": [
    {
     "name": "stdout",
     "output_type": "stream",
     "text": [
      "Results for incels:\n",
      "\teffect size: 0.4175088703632355\n",
      "\tp_value: 0.32537145953079594\n"
     ]
    }
   ],
   "source": [
    "print(\"Results for incels:\")\n",
    "test_weat(incels_embeddings_dict, 1000, 'normal')"
   ]
  },
  {
   "cell_type": "code",
   "execution_count": 68,
   "metadata": {},
   "outputs": [
    {
     "name": "stdout",
     "output_type": "stream",
     "text": [
      "Results for mensrights:\n",
      "\teffect size: 0.8146820068359375\n",
      "\tp_value: 0.16984705290506352\n"
     ]
    }
   ],
   "source": [
    "print(\"Results for mensrights:\")\n",
    "test_weat(mensrights_embeddings_dict, 1000, 'normal')"
   ]
  },
  {
   "cell_type": "code",
   "execution_count": 69,
   "metadata": {},
   "outputs": [
    {
     "name": "stdout",
     "output_type": "stream",
     "text": [
      "Results for trufemcels:\n",
      "\teffect size: 0.999513566493988\n",
      "\tp_value: 0.12003415399244433\n"
     ]
    }
   ],
   "source": [
    "print(\"Results for trufemcels:\")\n",
    "test_weat(trufemcels_embeddings_dict, 1000, 'normal')"
   ]
  },
  {
   "cell_type": "markdown",
   "metadata": {},
   "source": [
    "### Experiment 3: r/feminism across time"
   ]
  },
  {
   "cell_type": "code",
   "execution_count": 71,
   "metadata": {},
   "outputs": [],
   "source": [
    "all_words = {'target_1': [\"feminist\", \"girl\", \"woman\"], \n",
    "             'target_2': [\"incel\", \"boy\", \"man\"],\n",
    "             'attribute_1': [\"nice\", \"beautiful\", \"happy\", \"wonderful\"],\n",
    "             'attribute_2': [\"mean\", \"ugly\", \"sad\", \"awful\"]}\n",
    "# note: cheerful is replaced by \"happy\" and to balance, \"rude\" is replaced by \"sad\""
   ]
  },
  {
   "cell_type": "code",
   "execution_count": 72,
   "metadata": {},
   "outputs": [],
   "source": [
    "feminism_2015_2017_embeddings_dict = create_embeddings_dict(model_dict['feminism_2015_2017'], all_words)\n",
    "feminism_2017_2019_embeddings_dict = create_embeddings_dict(model_dict['feminism_2017_2019'], all_words)\n",
    "feminism_2019_2021_embeddings_dict = create_embeddings_dict(model_dict['feminism_2019_2021'], all_words)\n",
    "feminism_2021_2023_embeddings_dict = create_embeddings_dict(model_dict['feminism_2021_2023'], all_words)"
   ]
  },
  {
   "cell_type": "code",
   "execution_count": 73,
   "metadata": {},
   "outputs": [
    {
     "name": "stdout",
     "output_type": "stream",
     "text": [
      "Results for feminism_2015_2017:\n",
      "\teffect size: 0.9019179940223694\n",
      "\tp_value: 0.16171066156932157\n"
     ]
    }
   ],
   "source": [
    "print(\"Results for feminism_2015_2017:\")\n",
    "test_weat(feminism_2015_2017_embeddings_dict, 1000, 'normal')"
   ]
  },
  {
   "cell_type": "code",
   "execution_count": 74,
   "metadata": {},
   "outputs": [
    {
     "name": "stdout",
     "output_type": "stream",
     "text": [
      "Results for feminism_2017_2019:\n",
      "\teffect size: 0.8591486215591431\n",
      "\tp_value: 0.15840957857267302\n"
     ]
    }
   ],
   "source": [
    "print(\"Results for feminism_2017_2019:\")\n",
    "test_weat(feminism_2017_2019_embeddings_dict, 1000, 'normal')"
   ]
  },
  {
   "cell_type": "code",
   "execution_count": 75,
   "metadata": {},
   "outputs": [
    {
     "name": "stdout",
     "output_type": "stream",
     "text": [
      "Results for feminism_2019_2021:\n",
      "\teffect size: 1.2137731313705444\n",
      "\tp_value: 0.0991475629290598\n"
     ]
    }
   ],
   "source": [
    "print(\"Results for feminism_2019_2021:\")\n",
    "test_weat(feminism_2019_2021_embeddings_dict, 1000, 'normal')"
   ]
  },
  {
   "cell_type": "code",
   "execution_count": 76,
   "metadata": {},
   "outputs": [
    {
     "name": "stdout",
     "output_type": "stream",
     "text": [
      "Results for feminism_2021_2023:\n",
      "\teffect size: 0.6987370252609253\n",
      "\tp_value: 0.21980526004633716\n"
     ]
    }
   ],
   "source": [
    "print(\"Results for feminism_2021_2023:\")\n",
    "test_weat(feminism_2021_2023_embeddings_dict, 1000, 'normal')"
   ]
  },
  {
   "cell_type": "markdown",
   "metadata": {},
   "source": [
    "### Experiment 4: Between feminism subreddits"
   ]
  },
  {
   "cell_type": "code",
   "execution_count": 79,
   "metadata": {},
   "outputs": [],
   "source": [
    "all_words = {'target_1': [\"feminist\", \"girl\", \"woman\"], \n",
    "             'target_2': [\"incel\", \"boy\", \"man\"],\n",
    "             'attribute_1': [\"nice\", \"beautiful\", \"happy\", \"wonderful\"],\n",
    "             'attribute_2': [\"mean\", \"ugly\", \"sad\", \"awful\"]}\n",
    "# note: cheerful is replaced by \"happy\" and to balance, \"rude\" is replaced by \"sad\""
   ]
  },
  {
   "cell_type": "code",
   "execution_count": 80,
   "metadata": {},
   "outputs": [],
   "source": [
    "blackladies_embeddings_dict = create_embeddings_dict(model_dict['blackladies'], all_words)\n",
    "fourthwavewomen_embeddings_dict = create_embeddings_dict(model_dict['fourthwavewomen'], all_words)\n",
    "women_embeddings_dict = create_embeddings_dict(model_dict['women'], all_words)"
   ]
  },
  {
   "cell_type": "code",
   "execution_count": 81,
   "metadata": {},
   "outputs": [
    {
     "name": "stdout",
     "output_type": "stream",
     "text": [
      "Results for feminism_full:\n",
      "\teffect size: 1.0739195346832275\n",
      "\tp_value: 0.10982385947538886\n"
     ]
    }
   ],
   "source": [
    "print(\"Results for feminism_full:\")\n",
    "test_weat(feminism_full_embeddings_dict, 1000, 'normal')"
   ]
  },
  {
   "cell_type": "code",
   "execution_count": 82,
   "metadata": {},
   "outputs": [
    {
     "name": "stdout",
     "output_type": "stream",
     "text": [
      "Results for blackladies:\n",
      "\teffect size: 1.1685402393341064\n",
      "\tp_value: 0.10169695354007424\n"
     ]
    }
   ],
   "source": [
    "print(\"Results for blackladies:\")\n",
    "test_weat(blackladies_embeddings_dict, 1000, 'normal')"
   ]
  },
  {
   "cell_type": "code",
   "execution_count": 83,
   "metadata": {},
   "outputs": [
    {
     "name": "stdout",
     "output_type": "stream",
     "text": [
      "Results for fourthwavewomen:\n",
      "\teffect size: 1.0381433963775635\n",
      "\tp_value: 0.1111839942242322\n"
     ]
    }
   ],
   "source": [
    "print(\"Results for fourthwavewomen:\")\n",
    "test_weat(fourthwavewomen_embeddings_dict, 1000, 'normal')"
   ]
  },
  {
   "cell_type": "code",
   "execution_count": 84,
   "metadata": {},
   "outputs": [
    {
     "name": "stdout",
     "output_type": "stream",
     "text": [
      "Results for women:\n",
      "\teffect size: 0.6590870022773743\n",
      "\tp_value: 0.24115049434301095\n"
     ]
    }
   ],
   "source": [
    "print(\"Results for women:\")\n",
    "test_weat(women_embeddings_dict, 1000, 'normal')"
   ]
  }
 ],
 "metadata": {
  "kernelspec": {
   "display_name": "reddit_bias",
   "language": "python",
   "name": "python3"
  },
  "language_info": {
   "codemirror_mode": {
    "name": "ipython",
    "version": 3
   },
   "file_extension": ".py",
   "mimetype": "text/x-python",
   "name": "python",
   "nbconvert_exporter": "python",
   "pygments_lexer": "ipython3",
   "version": "3.12.3"
  }
 },
 "nbformat": 4,
 "nbformat_minor": 2
}
