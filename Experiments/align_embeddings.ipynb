{
 "cells": [
  {
   "cell_type": "code",
   "execution_count": 8,
   "id": "7ed2eb33",
   "metadata": {},
   "outputs": [],
   "source": [
    "from gensim.models import Word2Vec, callbacks\n",
    "import numpy as np"
   ]
  },
  {
   "cell_type": "code",
   "execution_count": 74,
   "id": "08366a1c",
   "metadata": {},
   "outputs": [],
   "source": [
    "embed_incels = Word2Vec.load('../data/embeddings/embeddings/embeddings/incels_full.bin')\n",
    "embed_feminism = Word2Vec.load('../data/embeddings/embeddings/embeddings/feminism_full.bin')\n",
    "embed_braincels = Word2Vec.load('../data/embeddings/embeddings/embeddings/braincels.bin')\n",
    "embed_fourthwavewomen = Word2Vec.load('../data/embeddings/embeddings/fourthwavewomen.bin')\n",
    "embed_mensrights = Word2Vec.load('../data/embeddings/embeddings/embeddings/mensrights.bin')\n",
    "embed_trufemcels = Word2Vec.load('../data/embeddings/embeddings/embeddings/trufemcels.bin')"
   ]
  },
  {
   "cell_type": "code",
   "execution_count": 68,
   "id": "cd6b401d",
   "metadata": {},
   "outputs": [
    {
     "data": {
      "text/plain": [
       "[('foids', 0.47826236486434937),\n",
       " ('femoids', 0.44140955805778503),\n",
       " ('female', 0.440362811088562),\n",
       " ('females', 0.3937489688396454),\n",
       " ('they', 0.3356839418411255)]"
      ]
     },
     "execution_count": 68,
     "metadata": {},
     "output_type": "execute_result"
    }
   ],
   "source": [
    "embed_incels.wv.most_similar(\"woman\", negative=\"man\", topn=5)"
   ]
  },
  {
   "cell_type": "code",
   "execution_count": 71,
   "id": "d8ba8504",
   "metadata": {},
   "outputs": [],
   "source": [
    "def smart_procrustes_align_gensim(base_embed, other_embed, words=None):\n",
    "    \"\"\"\n",
    "    Original script: https://gist.github.com/quadrismegistus/09a93e219a6ffc4f216fb85235535faf\n",
    "    Procrustes align two gensim word2vec models (to allow for comparison between same word across models).\n",
    "    Code ported from HistWords <https://github.com/williamleif/histwords> by William Hamilton <wleif@stanford.edu>.\n",
    "        \n",
    "    First, intersect the vocabularies (see `intersection_align_gensim` documentation).\n",
    "    Then do the alignment on the other_embed model.\n",
    "    Replace the other_embed model's syn0 and syn0norm numpy matrices with the aligned version.\n",
    "    Return other_embed.\n",
    "    If `words` is set, intersect the two models' vocabulary with the vocabulary in words (see `intersection_align_gensim` documentation).\n",
    "    \"\"\"\n",
    "\n",
    "    # patch by Richard So [https://twitter.com/richardjeanso) (thanks!) to update this code for new version of gensim\n",
    "    # base_embed.init_sims(replace=True)\n",
    "    # other_embed.init_sims(replace=True)\n",
    "\n",
    "    # make sure vocabulary and indices are aligned\n",
    "    in_base_embed, in_other_embed = intersection_align_gensim(base_embed, other_embed, words=words)\n",
    "    # re-filling the normed vectors\n",
    "    in_base_embed.wv.fill_norms(force=True)\n",
    "    in_other_embed.wv.fill_norms(force=True)\n",
    "\n",
    "    # get the (normalized) embedding matrices\n",
    "    base_vecs = in_base_embed.wv.get_normed_vectors()  \n",
    "    other_vecs = in_other_embed.wv.get_normed_vectors()\n",
    "\n",
    "    # just a matrix dot product with numpy\n",
    "    m = other_vecs.T.dot(base_vecs) \n",
    "    # SVD method from numpy\n",
    "    u, _, v = np.linalg.svd(m)\n",
    "    # another matrix operation\n",
    "    ortho = u.dot(v) \n",
    "    # Replace original array with modified one, i.e. multiplying the embedding matrix by \"ortho\"\n",
    "    other_embed.wv.vectors = (other_embed.wv.vectors).dot(ortho)    \n",
    "    \n",
    "    return other_embed\n",
    "\n",
    "def intersection_align_gensim(m1, m2, words=None):\n",
    "    \"\"\"\n",
    "    Intersect two gensim word2vec models, m1 and m2.\n",
    "    Only the shared vocabulary between them is kept.\n",
    "    If 'words' is set (as list or set), then the vocabulary is intersected with this list as well.\n",
    "    Indices are re-organized from 0..N in order of descending frequency (=sum of counts from both m1 and m2).\n",
    "    These indices correspond to the new syn0 and syn0norm objects in both gensim models:\n",
    "        -- so that Row 0 of m1.syn0 will be for the same word as Row 0 of m2.syn0\n",
    "        -- you can find the index of any word on the .index2word list: model.index2word.index(word) => 2\n",
    "    The .vocab dictionary is also updated for each model, preserving the count but updating the index.\n",
    "    \"\"\"\n",
    "\n",
    "    # Get the vocab for each model\n",
    "    vocab_m1 = set(m1.wv.index_to_key)\n",
    "    vocab_m2 = set(m2.wv.index_to_key)\n",
    "\n",
    "    # Find the common vocabulary\n",
    "    common_vocab = vocab_m1 & vocab_m2\n",
    "    if words: common_vocab &= set(words)\n",
    "\n",
    "    # If no alignment necessary because vocab is identical...\n",
    "    if not vocab_m1 - common_vocab and not vocab_m2 - common_vocab:\n",
    "        return (m1,m2)\n",
    "\n",
    "    # Otherwise sort by frequency (summed for both)\n",
    "    common_vocab = list(common_vocab)\n",
    "    common_vocab.sort(key=lambda w: m1.wv.get_vecattr(w, \"count\") + m2.wv.get_vecattr(w, \"count\"), reverse=True)\n",
    "    # print(len(common_vocab))\n",
    "\n",
    "    # Then for each model...\n",
    "    for m in [m1, m2]:\n",
    "        # Replace old syn0norm array with new one (with common vocab)\n",
    "        indices = [m.wv.key_to_index[w] for w in common_vocab]\n",
    "        old_arr = m.wv.vectors\n",
    "        new_arr = np.array([old_arr[index] for index in indices])\n",
    "        m.wv.vectors = new_arr\n",
    "\n",
    "        # Replace old vocab dictionary with new one (with common vocab)\n",
    "        # and old index2word with new one\n",
    "        new_key_to_index = {}\n",
    "        new_index_to_key = []\n",
    "        for new_index, key in enumerate(common_vocab):\n",
    "            new_key_to_index[key] = new_index\n",
    "            new_index_to_key.append(key)\n",
    "        m.wv.key_to_index = new_key_to_index\n",
    "        m.wv.index_to_key = new_index_to_key\n",
    "        \n",
    "        print(len(m.wv.key_to_index), len(m.wv.vectors))\n",
    "        \n",
    "    return (m1,m2)"
   ]
  },
  {
   "cell_type": "code",
   "execution_count": 75,
   "id": "fa412f8d",
   "metadata": {},
   "outputs": [
    {
     "name": "stdout",
     "output_type": "stream",
     "text": [
      "25226 25226\n",
      "25226 25226\n"
     ]
    }
   ],
   "source": [
    "# embed_incels_aligned = smart_procrustes_align_gensim(embed_feminism, embed_incels, words=None)\n",
    "# embed_braincels_aligned = smart_procrustes_align_gensim(embed_feminism, embed_braincels, words=None)\n",
    "embed_incels_aligned = smart_procrustes_align_gensim(embed_feminism, embed_incels, words=None)"
   ]
  },
  {
   "cell_type": "code",
   "execution_count": 76,
   "id": "bad44af5",
   "metadata": {
    "scrolled": true
   },
   "outputs": [
    {
     "name": "stdout",
     "output_type": "stream",
     "text": [
      "12606 12606\n",
      "12606 12606\n"
     ]
    }
   ],
   "source": [
    "embed_fourthwavewomen_aligned = smart_procrustes_align_gensim(embed_feminism, embed_fourthwavewomen, words=None)\n"
   ]
  },
  {
   "cell_type": "code",
   "execution_count": 80,
   "id": "1516675f",
   "metadata": {},
   "outputs": [
    {
     "name": "stdout",
     "output_type": "stream",
     "text": [
      "12490 12490\n",
      "12490 12490\n"
     ]
    }
   ],
   "source": [
    "embed_mensrights_aligned = smart_procrustes_align_gensim(embed_feminism, embed_mensrights, words=None)"
   ]
  },
  {
   "cell_type": "code",
   "execution_count": 77,
   "id": "5e33d923",
   "metadata": {},
   "outputs": [
    {
     "data": {
      "text/plain": [
       "[('historically', 0.35996028780937195),\n",
       " ('libfems', 0.35622909665107727),\n",
       " ('systemically', 0.34624382853507996),\n",
       " ('discrimination', 0.34381550550460815),\n",
       " ('overwhelmingly', 0.34236887097358704)]"
      ]
     },
     "execution_count": 77,
     "metadata": {},
     "output_type": "execute_result"
    }
   ],
   "source": [
    "embed_fourthwavewomen_aligned.wv.most_similar(\"woman\", negative=\"man\", topn=5)"
   ]
  },
  {
   "cell_type": "code",
   "execution_count": 78,
   "id": "af3a1e0e",
   "metadata": {},
   "outputs": [
    {
     "data": {
      "text/plain": [
       "[('femoids', 0.44140955805778503),\n",
       " ('female', 0.4403628408908844),\n",
       " ('females', 0.3937489986419678),\n",
       " ('they', 0.33568400144577026),\n",
       " ('mostly', 0.3343648910522461)]"
      ]
     },
     "execution_count": 78,
     "metadata": {},
     "output_type": "execute_result"
    }
   ],
   "source": [
    "embed_incels_aligned.wv.most_similar(\"woman\", negative=\"man\", topn=5)"
   ]
  },
  {
   "cell_type": "code",
   "execution_count": 81,
   "id": "b301db83",
   "metadata": {},
   "outputs": [
    {
     "data": {
      "text/plain": [
       "[('men', 0.3657928705215454),\n",
       " ('female', 0.34590962529182434),\n",
       " ('historically', 0.3324694335460663),\n",
       " ('womens', 0.3239828646183014),\n",
       " ('overwhelmingly', 0.3086893856525421)]"
      ]
     },
     "execution_count": 81,
     "metadata": {},
     "output_type": "execute_result"
    }
   ],
   "source": [
    "embed_mensrights_aligned.wv.most_similar(\"woman\", negative=\"man\", topn=5)"
   ]
  },
  {
   "cell_type": "code",
   "execution_count": 79,
   "id": "8d4a563e",
   "metadata": {},
   "outputs": [
    {
     "data": {
      "text/plain": [
       "[('womens', 0.35674095153808594),\n",
       " ('worldwide', 0.3343164324760437),\n",
       " ('marginalized', 0.3183361887931824),\n",
       " ('people', 0.31121283769607544),\n",
       " ('marginalised', 0.3053872585296631)]"
      ]
     },
     "execution_count": 79,
     "metadata": {},
     "output_type": "execute_result"
    }
   ],
   "source": [
    "embed_feminism.wv.most_similar(\"woman\", negative=\"man\", topn=5)"
   ]
  },
  {
   "cell_type": "code",
   "execution_count": 88,
   "id": "2aa7b62d",
   "metadata": {},
   "outputs": [
    {
     "data": {
      "text/plain": [
       "[('cis', 0.743873119354248),\n",
       " ('afab', 0.6708109974861145),\n",
       " ('nb', 0.6152593493461609),\n",
       " ('transwomen', 0.604610800743103),\n",
       " ('inclusive', 0.6011746525764465),\n",
       " ('transmen', 0.5973383188247681),\n",
       " ('transgender', 0.5851062536239624),\n",
       " ('ci', 0.554002046585083),\n",
       " ('queer', 0.5521582365036011),\n",
       " ('lgbt', 0.5290417671203613)]"
      ]
     },
     "execution_count": 88,
     "metadata": {},
     "output_type": "execute_result"
    }
   ],
   "source": [
    "embed_fourthwavewomen_aligned.wv.most_similar(\"trans\", topn=10)"
   ]
  },
  {
   "cell_type": "code",
   "execution_count": 89,
   "id": "fdf84fa7",
   "metadata": {},
   "outputs": [
    {
     "data": {
      "text/plain": [
       "[('transgender', 0.773362934589386),\n",
       " ('nonbinary', 0.7053300738334656),\n",
       " ('nb', 0.6893020868301392),\n",
       " ('intersex', 0.6756387948989868),\n",
       " ('transwomen', 0.660694420337677),\n",
       " ('cis', 0.6591365337371826),\n",
       " ('afab', 0.6236242651939392),\n",
       " ('amab', 0.5751936435699463),\n",
       " ('transmen', 0.5613951683044434),\n",
       " ('queer', 0.5581699013710022)]"
      ]
     },
     "execution_count": 89,
     "metadata": {},
     "output_type": "execute_result"
    }
   ],
   "source": [
    "embed_feminism.wv.most_similar(\"trans\", topn=10)"
   ]
  },
  {
   "cell_type": "code",
   "execution_count": 90,
   "id": "10d32e3c",
   "metadata": {},
   "outputs": [
    {
     "data": {
      "text/plain": [
       "[('transgender', 0.872365415096283),\n",
       " ('ftm', 0.6808600425720215),\n",
       " ('transgendered', 0.6708664298057556),\n",
       " ('mtf', 0.6565186977386475),\n",
       " ('transwomen', 0.6514958143234253),\n",
       " ('transsexual', 0.6390201449394226),\n",
       " ('transmen', 0.6373894810676575),\n",
       " ('transexual', 0.6355262398719788),\n",
       " ('cis', 0.6304329037666321),\n",
       " ('transgenders', 0.6283801794052124)]"
      ]
     },
     "execution_count": 90,
     "metadata": {},
     "output_type": "execute_result"
    }
   ],
   "source": [
    "embed_incels_aligned.wv.most_similar(\"trans\", topn=10)"
   ]
  },
  {
   "cell_type": "code",
   "execution_count": null,
   "id": "8ad00faf",
   "metadata": {},
   "outputs": [],
   "source": []
  }
 ],
 "metadata": {
  "kernelspec": {
   "display_name": "Python 3 (ipykernel)",
   "language": "python",
   "name": "python3"
  },
  "language_info": {
   "codemirror_mode": {
    "name": "ipython",
    "version": 3
   },
   "file_extension": ".py",
   "mimetype": "text/x-python",
   "name": "python",
   "nbconvert_exporter": "python",
   "pygments_lexer": "ipython3",
   "version": "3.11.5"
  }
 },
 "nbformat": 4,
 "nbformat_minor": 5
}
